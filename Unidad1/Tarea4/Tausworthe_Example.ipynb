{
  "nbformat": 4,
  "nbformat_minor": 0,
  "metadata": {
    "colab": {
      "name": "Tausworthe_Example.ipynb",
      "provenance": [],
      "collapsed_sections": [],
      "authorship_tag": "ABX9TyPgTaMypwGjFlNVQYYLqEcz",
      "include_colab_link": true
    },
    "kernelspec": {
      "name": "python3",
      "display_name": "Python 3"
    },
    "language_info": {
      "name": "python"
    }
  },
  "cells": [
    {
      "cell_type": "markdown",
      "metadata": {
        "id": "view-in-github",
        "colab_type": "text"
      },
      "source": [
        "<a href=\"https://colab.research.google.com/github/bryansb/simulacion/blob/main/Unidad1/Tarea4/Tausworthe_Example.ipynb\" target=\"_parent\"><img src=\"https://colab.research.google.com/assets/colab-badge.svg\" alt=\"Open In Colab\"/></a>"
      ]
    },
    {
      "cell_type": "code",
      "source": [
        "# Genera la secuencia de binarios\n",
        "def generate_sequence(seed, r, q):\n",
        "    seq = seed\n",
        "    start = q\n",
        "    end = (2**q)\n",
        "\n",
        "    for i in range(start, end):\n",
        "        bir = i-r\n",
        "        biq = i-q\n",
        "        bi = seq[bir] ^ seq[biq] # XOR\n",
        "        seq.append(bi)\n",
        "\n",
        "    return seq\n",
        "\n",
        "# Convierte un vector con 0s y 1s a un string\n",
        "# y posteriormente retorna el número decimal correspondiente\n",
        "def bin_to_dec(vec):\n",
        "    bin = ''\n",
        "    \n",
        "    for i in vec:\n",
        "        bin = bin + str(i)\n",
        "\n",
        "    return int(bin, 2)\n",
        "\n",
        "# Convierte la secuencia binaria\n",
        "# en números pseudoaleatorios\n",
        "def get_decimal_numbers(seq, l, log=False):\n",
        "    seq_dec = []\n",
        "    e = l\n",
        "    end = len(seq)\n",
        "    const = 2**l\n",
        "\n",
        "    for i in range(0, end, l):\n",
        "        s = i\n",
        "        dec = bin_to_dec(seq[s:e])\n",
        "        num = dec/(const)\n",
        "        seq_dec.append(num)\n",
        "        if log:\n",
        "            print(f'Binario: {seq[s:e]} = Decimal: {dec} | {dec} / {const} = {num} ')\n",
        "        e = e + l\n",
        "\n",
        "    return seq_dec"
      ],
      "metadata": {
        "id": "_uE5QYhqkA2h"
      },
      "execution_count": null,
      "outputs": []
    },
    {
      "cell_type": "code",
      "source": [
        "# Se definen las entradas\n",
        "q = 5\n",
        "r = 3 # Tiene que ser menor a \"q\"\n",
        "seed = [1, 1, 1, 1, 1] # Tiene que ser de longitud \"q\"\n",
        "l = 4\n",
        "print(f'Entradas: \\n\\t q={q}, r={r}, l={l} \\n')\n",
        "\n",
        "seq = generate_sequence(seed, r, q)\n",
        "print(f'Secuencia binaria: \\n\\t {seq} \\n')\n",
        "\n",
        "dec_seq = get_decimal_numbers(seq, l, True)\n",
        "print(f'\\n Números pseudoaleatorios: \\n\\t {dec_seq} \\n')"
      ],
      "metadata": {
        "colab": {
          "base_uri": "https://localhost:8080/"
        },
        "id": "qjE1a4LX7JEO",
        "outputId": "ca095a9f-8f42-4ed9-feba-89363730763b"
      },
      "execution_count": null,
      "outputs": [
        {
          "output_type": "stream",
          "name": "stdout",
          "text": [
            "Entradas: \n",
            "\t q=5, r=3, l=4 \n",
            "\n",
            "Secuencia binaria: \n",
            "\t [1, 1, 1, 1, 1, 0, 0, 0, 1, 1, 0, 1, 1, 1, 0, 1, 0, 1, 0, 0, 0, 0, 1, 0, 0, 1, 0, 1, 1, 0, 0, 1] \n",
            "\n",
            "Binario: [1, 1, 1, 1] = Decimal: 15 | 15 / 16 = 0.9375 \n",
            "Binario: [1, 0, 0, 0] = Decimal: 8 | 8 / 16 = 0.5 \n",
            "Binario: [1, 1, 0, 1] = Decimal: 13 | 13 / 16 = 0.8125 \n",
            "Binario: [1, 1, 0, 1] = Decimal: 13 | 13 / 16 = 0.8125 \n",
            "Binario: [0, 1, 0, 0] = Decimal: 4 | 4 / 16 = 0.25 \n",
            "Binario: [0, 0, 1, 0] = Decimal: 2 | 2 / 16 = 0.125 \n",
            "Binario: [0, 1, 0, 1] = Decimal: 5 | 5 / 16 = 0.3125 \n",
            "Binario: [1, 0, 0, 1] = Decimal: 9 | 9 / 16 = 0.5625 \n",
            "\n",
            " Números pseudoaleatorios: \n",
            "\t [0.9375, 0.5, 0.8125, 0.8125, 0.25, 0.125, 0.3125, 0.5625] \n",
            "\n"
          ]
        }
      ]
    },
    {
      "cell_type": "code",
      "source": [
        "# Se definen las entradas\n",
        "q = 5\n",
        "r = 3 # Tiene que ser menor a \"q\"\n",
        "seed = [1, 1, 1, 1, 1] # Tiene que ser de longitud \"q\"\n",
        "l = 3\n",
        "print(f'Entradas: \\n\\t q={q}, r={r}, l={l} \\n')\n",
        "\n",
        "seq = generate_sequence(seed, r, q)\n",
        "print(f'Secuencia binaria: \\n\\t {seq} \\n')\n",
        "\n",
        "dec_seq = get_decimal_numbers(seq, l, True)\n",
        "print(f'\\n Números pseudoaleatorios: \\n\\t {dec_seq} \\n')"
      ],
      "metadata": {
        "colab": {
          "base_uri": "https://localhost:8080/"
        },
        "id": "0py4Oyd2QqfQ",
        "outputId": "9d725d42-e600-42f3-a6f2-a3c17b6840c2"
      },
      "execution_count": null,
      "outputs": [
        {
          "output_type": "stream",
          "name": "stdout",
          "text": [
            "Entradas: \n",
            "\t q=5, r=3, l=3 \n",
            "\n",
            "Secuencia binaria: \n",
            "\t [1, 1, 1, 1, 1, 0, 0, 0, 1, 1, 0, 1, 1, 1, 0, 1, 0, 1, 0, 0, 0, 0, 1, 0, 0, 1, 0, 1, 1, 0, 0, 1] \n",
            "\n",
            "Binario: [1, 1, 1] = Decimal: 7 | 7 / 8 = 0.875 \n",
            "Binario: [1, 1, 0] = Decimal: 6 | 6 / 8 = 0.75 \n",
            "Binario: [0, 0, 1] = Decimal: 1 | 1 / 8 = 0.125 \n",
            "Binario: [1, 0, 1] = Decimal: 5 | 5 / 8 = 0.625 \n",
            "Binario: [1, 1, 0] = Decimal: 6 | 6 / 8 = 0.75 \n",
            "Binario: [1, 0, 1] = Decimal: 5 | 5 / 8 = 0.625 \n",
            "Binario: [0, 0, 0] = Decimal: 0 | 0 / 8 = 0.0 \n",
            "Binario: [0, 1, 0] = Decimal: 2 | 2 / 8 = 0.25 \n",
            "Binario: [0, 1, 0] = Decimal: 2 | 2 / 8 = 0.25 \n",
            "Binario: [1, 1, 0] = Decimal: 6 | 6 / 8 = 0.75 \n",
            "Binario: [0, 1] = Decimal: 1 | 1 / 8 = 0.125 \n",
            "\n",
            " Números pseudoaleatorios: \n",
            "\t [0.875, 0.75, 0.125, 0.625, 0.75, 0.625, 0.0, 0.25, 0.25, 0.75, 0.125] \n",
            "\n"
          ]
        }
      ]
    },
    {
      "cell_type": "code",
      "source": [
        ""
      ],
      "metadata": {
        "id": "uw25pfgsWWw1"
      },
      "execution_count": null,
      "outputs": []
    }
  ]
}
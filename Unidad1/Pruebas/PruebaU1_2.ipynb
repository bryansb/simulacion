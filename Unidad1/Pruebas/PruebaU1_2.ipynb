{
  "nbformat": 4,
  "nbformat_minor": 0,
  "metadata": {
    "colab": {
      "name": "PruebaU1-2.ipynb",
      "provenance": [],
      "collapsed_sections": [],
      "authorship_tag": "ABX9TyMjl5+hmzMg9big1YNKq+PG",
      "include_colab_link": true
    },
    "kernelspec": {
      "name": "python3",
      "display_name": "Python 3"
    },
    "language_info": {
      "name": "python"
    }
  },
  "cells": [
    {
      "cell_type": "markdown",
      "metadata": {
        "id": "view-in-github",
        "colab_type": "text"
      },
      "source": [
        "<a href=\"https://colab.research.google.com/github/bryansb/simulacion/blob/main/Unidad1/Pruebas/PruebaU1_2.ipynb\" target=\"_parent\"><img src=\"https://colab.research.google.com/assets/colab-badge.svg\" alt=\"Open In Colab\"/></a>"
      ]
    },
    {
      "cell_type": "markdown",
      "source": [
        "# Prueba 2 - Prueba de Independencia de números pseudoaleatorios\n",
        "## Nombre: Bryan Sarmiento Basurto.\n",
        "## Asignatura: Simulación\n",
        "## Fecha: 25 de mayo de 2022"
      ],
      "metadata": {
        "id": "bvYnIVvoteUn"
      }
    },
    {
      "cell_type": "code",
      "execution_count": 32,
      "metadata": {
        "id": "dA6_rC9cp5PV"
      },
      "outputs": [],
      "source": [
        "# Imports\n",
        "import math\n",
        "import random\n",
        "import matplotlib.pyplot as plt\n",
        "import numpy as np"
      ]
    },
    {
      "cell_type": "code",
      "source": [
        "def middle_square_generator(Xo=8370, n=4, iter=10, log=False):\n",
        "\n",
        "    # Se comprueba que la condición de \"n\"\n",
        "    if (n<=3):\n",
        "        print('El valor de \"n\" debe ser mayor a 3')\n",
        "        return -1\n",
        "\n",
        "    Xn = Xo\n",
        "    numbers = []\n",
        "\n",
        "    for i in range(iter):\n",
        "        Xnn = Xn**2\n",
        "        Txnn = str(Xnn).zfill(8)\n",
        "        size = len(Txnn)\n",
        "        Ui = int(Txnn[int(size/2-n/2):int(size/2+n/2)])\n",
        "        Rn = Ui / (int('9'*n)+1)\n",
        "        numbers.append(Rn)\n",
        "\n",
        "        if(log):\n",
        "            print(str(i) + \"\\t\" + str(Xn) + \"\\t\"+ str(Ui)+\"\\t\"+str(Rn))\n",
        "\n",
        "        Xn = Ui\n",
        "        \n",
        "    return numbers\n",
        "\n",
        "def linear_congruential_generator(Xo=4370, a=3, b=5, m=19, iter=10, log=False):\n",
        "    Xn = Xo\n",
        "    numbers = []\n",
        "\n",
        "    for i in range(iter):\n",
        "        Xnn = (a*Xn+b) % m\n",
        "        Ui = Xnn/m\n",
        "        numbers.append(Ui)\n",
        "\n",
        "        if (log):\n",
        "            print(str(i) + \"\\t\"+ str(Xnn)+\"\\t\"+str(Ui))\n",
        "\n",
        "        Xn = Xnn\n",
        "    \n",
        "    return numbers\n",
        "\n",
        "def bin_to_dec(vec):\n",
        "    bin = ''\n",
        "    \n",
        "    for i in vec:\n",
        "        bin = bin + str(i)\n",
        "\n",
        "    return int(bin, 2)\n",
        "\n",
        "def get_decimal_numbers(seq, l, log=False):\n",
        "    seq_dec = []\n",
        "    e = l\n",
        "    end = len(seq)\n",
        "    const = 2**l\n",
        "\n",
        "    for i in range(0, end, l):\n",
        "        s = i\n",
        "        dec = bin_to_dec(seq[s:e])\n",
        "        num = dec/(const)\n",
        "        seq_dec.append(num)\n",
        "\n",
        "        if log:\n",
        "            print(f'Binario: {seq[s:e]} = \\\n",
        "                    Decimal: {dec} | {dec} / {const} = {num} ')\n",
        "            \n",
        "        e = e + l\n",
        "\n",
        "    return seq_dec\n",
        "\n",
        "def tausworthe_generator(seed=[1, 1, 1, 1, 1], r=3, q=5, l=4, n=10, period=True):\n",
        "    binary_sequence = seed\n",
        "    start = q\n",
        "\n",
        "    if (period):\n",
        "        end = (2**q)\n",
        "\n",
        "    if (not period):\n",
        "        end = n*l\n",
        "\n",
        "    for i in range(start, end):\n",
        "        bir = i-r\n",
        "        biq = i-q\n",
        "        bi = binary_sequence[bir] ^ binary_sequence[biq] # XOR\n",
        "        binary_sequence.append(bi)\n",
        "\n",
        "    numbers = get_decimal_numbers(binary_sequence, l, log=False)\n",
        "\n",
        "    return numbers"
      ],
      "metadata": {
        "id": "CjWHMbZE3Czk"
      },
      "execution_count": 48,
      "outputs": []
    },
    {
      "cell_type": "code",
      "source": [
        "def python_generator(N=100):\n",
        "    numbers = []\n",
        "    random.seed(1032022)\n",
        "    [numbers.append(random.random())for i in range(N)]\n",
        "    return numbers"
      ],
      "metadata": {
        "id": "iEyGWAzm5ttE"
      },
      "execution_count": 51,
      "outputs": []
    },
    {
      "cell_type": "code",
      "source": [
        "def corrida_test(numbers):\n",
        "    MEAN = 0.5\n",
        "    bin_seq = []\n",
        "    Co = 1\n",
        "    n0 = 0\n",
        "    n1 = 0\n",
        "\n",
        "    for number in numbers:\n",
        "        if number < MEAN:\n",
        "            bin_seq.append(0)\n",
        "            n0 += 1 \n",
        "        elif number >= MEAN:\n",
        "            bin_seq.append(1)\n",
        "            n1 += 1\n",
        "\n",
        "    end = len(bin_seq)\n",
        "    for i in range(1, end):\n",
        "        if (bin_seq[i] != bin_seq[i-1]):\n",
        "            Co += 1\n",
        "\n",
        "    n = n0 + n1\n",
        "\n",
        "    Uco = valor_esperado(n0, n1, n)\n",
        "    Oco = varianza_corridas(n0, n1, n)\n",
        "\n",
        "\n",
        "    Zo = estadistico(Co, Uco, Oco)\n",
        "\n",
        "    graph_pie(n0, n1)\n",
        "\n",
        "    \n",
        "    print(f'Uco {Uco}, Oco {Oco}, Zo {Zo}')\n",
        "\n",
        "\n",
        "    \n",
        "def valor_esperado(n0, n1, n):\n",
        "    up = 2 * n0 * n1\n",
        "    down = n\n",
        "\n",
        "    div = (up/down) + 0.5\n",
        "\n",
        "    return div\n",
        "\n",
        "def varianza_corridas(n0, n1, n):\n",
        "    mult = 2 * n0 * n1\n",
        "    up = (mult) * (mult - n) \n",
        "    down = (n**2) * (n - 1)\n",
        "\n",
        "    div = up/down\n",
        "    \n",
        "    return div\n",
        "\n",
        "def estadistico(Co, Uco, Oco):\n",
        "    up = Co - Uco\n",
        "    down = math.sqrt(Oco)\n",
        "\n",
        "    div = up/down\n",
        "\n",
        "    return div\n",
        "\n",
        "      \n",
        "\n",
        "def graph_pie(n0, n1):\n",
        "    labels = ['Ceros', 'Unos']\n",
        "    data = [n0, n1]\n",
        "\n",
        "    fig = plt.figure()\n",
        "    plt.pie(data, labels=labels)\n",
        "    plt.title('Frecuencia de Ceros y Unos')\n",
        "    plt.show()"
      ],
      "metadata": {
        "id": "tIEedIlvt6MU"
      },
      "execution_count": 43,
      "outputs": []
    },
    {
      "cell_type": "code",
      "source": [
        "numbers_test = [0.809, 0.042, 0.432, 0.538, 0.225, 0.88, 0.688, 0.772, 0.036, 0.854, \\\n",
        "                0.397, 0.268, 0.821, 0.897, 0.07, 0.721, 0.087, 0.35, 0.779, 0.482,  \n",
        "                0.136, 0.855, 0.453, 0.197, 0.444, 0.799, 0.809, 0.691, 0.545, 0.857,\n",
        "                0.692, 0.055, 0.348, 0.373, 0.436, 0.29, 0.015, 0.834, 0.599, 0.724,\n",
        "                0.564, 0.709, 0.946, 0.754, 0.677, 0.128, 0.012, 0.498, 0.6, 0.913]\n",
        "\n",
        "corrida_test(numbers_test)"
      ],
      "metadata": {
        "colab": {
          "base_uri": "https://localhost:8080/",
          "height": 299
        },
        "id": "WvoMZEhxubP5",
        "outputId": "f3d778f3-9ad5-4072-d161-edf0730e74b4"
      },
      "execution_count": 44,
      "outputs": [
        {
          "output_type": "display_data",
          "data": {
            "text/plain": [
              "<Figure size 432x288 with 1 Axes>"
            ],
            "image/png": "[encoded data removed]"
          },
          "metadata": {}
        },
        {
          "output_type": "stream",
          "name": "stdout",
          "text": [
            "Co 21 n0 23, n1 27, n 50\n",
            "Uco 25.34, Oco 12.085420408163266, Zo -1.248414626492295\n"
          ]
        }
      ]
    },
    {
      "cell_type": "code",
      "source": [
        "# Cuadrados Medios\n",
        "middle_square = middle_square_generator(Xo = 74731897457, \n",
        "                                        n = 7, \n",
        "                                        iter = 100)\n",
        "\n",
        "corrida_test(middle_square)"
      ],
      "metadata": {
        "colab": {
          "base_uri": "https://localhost:8080/",
          "height": 299
        },
        "id": "p9srbd7hvg8O",
        "outputId": "c147dc6a-2286-441b-fdc6-1b4f0269dc11"
      },
      "execution_count": 45,
      "outputs": [
        {
          "output_type": "display_data",
          "data": {
            "text/plain": [
              "<Figure size 432x288 with 1 Axes>"
            ],
            "image/png": "[encoded data removed]"
          },
          "metadata": {}
        },
        {
          "output_type": "stream",
          "name": "stdout",
          "text": [
            "Co 49 n0 41, n1 59, n 100\n",
            "Uco 48.88, Oco 23.153983838383837, Zo 0.02493838832056819\n"
          ]
        }
      ]
    },
    {
      "cell_type": "code",
      "source": [
        "linear_congruential = linear_congruential_generator(Xo = 7, \n",
        "                                                    a = 74731897457, \n",
        "                                                    b = 37747318974, \n",
        "                                                    m = 19, \n",
        "                                                    iter = 100)\n",
        "corrida_test(linear_congruential)"
      ],
      "metadata": {
        "colab": {
          "base_uri": "https://localhost:8080/",
          "height": 299
        },
        "id": "PIsg8wCN4_pf",
        "outputId": "c1b02e3b-22ad-4096-ae5f-d8c49d67a630"
      },
      "execution_count": 46,
      "outputs": [
        {
          "output_type": "display_data",
          "data": {
            "text/plain": [
              "<Figure size 432x288 with 1 Axes>"
            ],
            "image/png": "[encoded data removed]"
          },
          "metadata": {}
        },
        {
          "output_type": "stream",
          "name": "stdout",
          "text": [
            "Co 45 n0 44, n1 56, n 100\n",
            "Uco 49.78, Oco 24.032711111111112, Zo -0.9750491625213825\n"
          ]
        }
      ]
    },
    {
      "cell_type": "code",
      "source": [
        "python = python_generator()\n",
        "\n",
        "corrida_test(python)"
      ],
      "metadata": {
        "colab": {
          "base_uri": "https://localhost:8080/",
          "height": 299
        },
        "id": "Gz39BmB65KBJ",
        "outputId": "4660692e-9bc6-4b4c-848d-a1ab8a903f97"
      },
      "execution_count": 52,
      "outputs": [
        {
          "output_type": "display_data",
          "data": {
            "text/plain": [
              "<Figure size 432x288 with 1 Axes>"
            ],
            "image/png": "[encoded data removed]"
          },
          "metadata": {}
        },
        {
          "output_type": "stream",
          "name": "stdout",
          "text": [
            "Co 46 n0 57, n1 43, n 100\n",
            "Uco 49.52, Oco 23.77717575757576, Zo -0.7218758774415761\n"
          ]
        }
      ]
    },
    {
      "cell_type": "code",
      "source": [
        "tausworthe = tausworthe_generator(seed = [1, 1, 1, 1, 1, 1, 1, 1, 1, 1, 1, 1, 1, 1, 1], \n",
        "                                  r = 7, \n",
        "                                  q = 15, \n",
        "                                  l = 7, \n",
        "                                  n = 100, \n",
        "                                  period=False)\n",
        "\n",
        "corrida_test(tausworthe)"
      ],
      "metadata": {
        "colab": {
          "base_uri": "https://localhost:8080/",
          "height": 299
        },
        "id": "xwZhSdzj5SKo",
        "outputId": "cc62a6a5-ed37-4a36-c9a6-6b92b8e1d9b1"
      },
      "execution_count": 49,
      "outputs": [
        {
          "output_type": "display_data",
          "data": {
            "text/plain": [
              "<Figure size 432x288 with 1 Axes>"
            ],
            "image/png": "[encoded data removed]"
          },
          "metadata": {}
        },
        {
          "output_type": "stream",
          "name": "stdout",
          "text": [
            "Co 48 n0 42, n1 58, n 100\n",
            "Uco 49.22, Oco 23.484024242424244, Zo -0.25175237171777376\n"
          ]
        }
      ]
    },
    {
      "cell_type": "code",
      "source": [
        ""
      ],
      "metadata": {
        "id": "f0fyA4Ul6Ajv"
      },
      "execution_count": null,
      "outputs": []
    }
  ]
}
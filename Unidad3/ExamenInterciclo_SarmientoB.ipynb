{
  "nbformat": 4,
  "nbformat_minor": 0,
  "metadata": {
    "colab": {
      "name": "Prueba3-TransformadaInversa.ipynb",
      "provenance": [],
      "collapsed_sections": []
    },
    "kernelspec": {
      "name": "python3",
      "display_name": "Python 3"
    },
    "language_info": {
      "name": "python"
    }
  },
  "cells": [
    {
      "cell_type": "markdown",
      "source": [
        "# **Prueba 3 - Método de la Transformada Inversa**\n",
        "## **Nombre:** Bryan Sarmiento Basurto\n",
        "## **Asignatura:** Simulación\n",
        "## **Fecha:** 29 de junio de 2022"
      ],
      "metadata": {
        "id": "G-a_ZJrz1H36"
      }
    },
    {
      "cell_type": "markdown",
      "source": [
        "## Librerías y Código General"
      ],
      "metadata": {
        "id": "e3eb-xKf1Yyr"
      }
    },
    {
      "cell_type": "code",
      "execution_count": 32,
      "metadata": {
        "id": "48cqFkFvywNA"
      },
      "outputs": [],
      "source": [
        "import math\n",
        "import random\n",
        "import numpy as np \n",
        "import pandas as pd\n",
        "import seaborn as sns \n",
        "import matplotlib.pyplot as plt\n",
        "\n",
        "from scipy import stats \n",
        "from math import log"
      ]
    },
    {
      "cell_type": "code",
      "source": [
        "def get_random_numbers(n=100, seed=1032022):\n",
        "    numbers = []\n",
        "    random.seed(seed)\n",
        "    [numbers.append(random.random())for i in range(n)]\n",
        "    return numbers\n",
        "\n",
        "def get_samples(numbers, time):\n",
        "    samples = []\n",
        "    for u in numbers:\n",
        "        up = log(1 - u)\n",
        "        down = time\n",
        "\n",
        "        result = -(up / down)\n",
        "        # result = -0.3 * up\n",
        "        samples.append(abs(result*10))\n",
        "\n",
        "    return samples\n",
        "\n",
        "def generate_dataframe(numbers, samples):\n",
        "    df = pd.DataFrame()\n",
        "    df = df.assign(ri=numbers)\n",
        "    df = df.assign(tiempo_llamada=samples)\n",
        "\n",
        "    return df\n",
        "\n",
        "def histogram(x, title, bins = 10):\n",
        "    plt.hist(x, bins)\n",
        "    plt.title('Histograma de Distribución: ' + title)\n",
        "    plt.ylabel('Frecuencia')\n",
        "    plt.xlabel('Valores')\n",
        "    plt.show()\n",
        "\n",
        "def plot_function(x, y, title):\n",
        "    plt.plot(x, y)\n",
        "    plt.title(title)\n",
        "    plt.ylabel('Probabilidad')\n",
        "    plt.xlabel('Valores')\n",
        "    plt.show()\n",
        "\n",
        "def get_pdf(samples, time):\n",
        "    pdf = []\n",
        "    for x in samples:\n",
        "        aux = time * math.exp(-time * x)\n",
        "        pdf.append(aux)\n",
        "\n",
        "    return pdf"
      ],
      "metadata": {
        "id": "op-x7tfqIFMC"
      },
      "execution_count": 101,
      "outputs": []
    },
    {
      "cell_type": "code",
      "source": [
        "# Zona de Pruebas\n",
        "numbers = [0.64, 0.83, 0.03, 0.50, 0.21]\n",
        "\n",
        "samples = get_samples(\n",
        "    numbers,\n",
        "    3\n",
        ")\n",
        "\n",
        "df = generate_dataframe(\n",
        "    numbers,\n",
        "    samples\n",
        ")\n",
        "\n",
        "df.head()"
      ],
      "metadata": {
        "colab": {
          "base_uri": "https://localhost:8080/",
          "height": 206
        },
        "id": "rlbzMp8bZ0mX",
        "outputId": "7ea63a80-5545-4836-c40c-d10c3a31779a"
      },
      "execution_count": 77,
      "outputs": [
        {
          "output_type": "execute_result",
          "data": {
            "text/plain": [
              "     ri  tiempo_llamada\n",
              "0  0.64        0.340550\n",
              "1  0.83        0.590652\n",
              "2  0.03        0.010153\n",
              "3  0.50        0.231049\n",
              "4  0.21        0.078574"
            ],
            "text/html": [
              "\n",
              "  <div id=\"df-b198c8ca-9406-4621-81b8-6ce0b6156918\">\n",
              "    <div class=\"colab-df-container\">\n",
              "      <div>\n",
              "<style scoped>\n",
              "    .dataframe tbody tr th:only-of-type {\n",
              "        vertical-align: middle;\n",
              "    }\n",
              "\n",
              "    .dataframe tbody tr th {\n",
              "        vertical-align: top;\n",
              "    }\n",
              "\n",
              "    .dataframe thead th {\n",
              "        text-align: right;\n",
              "    }\n",
              "</style>\n",
              "<table border=\"1\" class=\"dataframe\">\n",
              "  <thead>\n",
              "    <tr style=\"text-align: right;\">\n",
              "      <th></th>\n",
              "      <th>ri</th>\n",
              "      <th>tiempo_llamada</th>\n",
              "    </tr>\n",
              "  </thead>\n",
              "  <tbody>\n",
              "    <tr>\n",
              "      <th>0</th>\n",
              "      <td>0.64</td>\n",
              "      <td>0.340550</td>\n",
              "    </tr>\n",
              "    <tr>\n",
              "      <th>1</th>\n",
              "      <td>0.83</td>\n",
              "      <td>0.590652</td>\n",
              "    </tr>\n",
              "    <tr>\n",
              "      <th>2</th>\n",
              "      <td>0.03</td>\n",
              "      <td>0.010153</td>\n",
              "    </tr>\n",
              "    <tr>\n",
              "      <th>3</th>\n",
              "      <td>0.50</td>\n",
              "      <td>0.231049</td>\n",
              "    </tr>\n",
              "    <tr>\n",
              "      <th>4</th>\n",
              "      <td>0.21</td>\n",
              "      <td>0.078574</td>\n",
              "    </tr>\n",
              "  </tbody>\n",
              "</table>\n",
              "</div>\n",
              "      <button class=\"colab-df-convert\" onclick=\"convertToInteractive('df-b198c8ca-9406-4621-81b8-6ce0b6156918')\"\n",
              "              title=\"Convert this dataframe to an interactive table.\"\n",
              "              style=\"display:none;\">\n",
              "        \n",
              "  <svg xmlns=\"http://www.w3.org/2000/svg\" height=\"24px\"viewBox=\"0 0 24 24\"\n",
              "       width=\"24px\">\n",
              "    <path d=\"M0 0h24v24H0V0z\" fill=\"none\"/>\n",
              "    <path d=\"M18.56 5.44l.94 2.06.94-2.06 2.06-.94-2.06-.94-.94-2.06-.94 2.06-2.06.94zm-11 1L8.5 8.5l.94-2.06 2.06-.94-2.06-.94L8.5 2.5l-.94 2.06-2.06.94zm10 10l.94 2.06.94-2.06 2.06-.94-2.06-.94-.94-2.06-.94 2.06-2.06.94z\"/><path d=\"M17.41 7.96l-1.37-1.37c-.4-.4-.92-.59-1.43-.59-.52 0-1.04.2-1.43.59L10.3 9.45l-7.72 7.72c-.78.78-.78 2.05 0 2.83L4 21.41c.39.39.9.59 1.41.59.51 0 1.02-.2 1.41-.59l7.78-7.78 2.81-2.81c.8-.78.8-2.07 0-2.86zM5.41 20L4 18.59l7.72-7.72 1.47 1.35L5.41 20z\"/>\n",
              "  </svg>\n",
              "      </button>\n",
              "      \n",
              "  <style>\n",
              "    .colab-df-container {\n",
              "      display:flex;\n",
              "      flex-wrap:wrap;\n",
              "      gap: 12px;\n",
              "    }\n",
              "\n",
              "    .colab-df-convert {\n",
              "      background-color: #E8F0FE;\n",
              "      border: none;\n",
              "      border-radius: 50%;\n",
              "      cursor: pointer;\n",
              "      display: none;\n",
              "      fill: #1967D2;\n",
              "      height: 32px;\n",
              "      padding: 0 0 0 0;\n",
              "      width: 32px;\n",
              "    }\n",
              "\n",
              "    .colab-df-convert:hover {\n",
              "      background-color: #E2EBFA;\n",
              "      box-shadow: 0px 1px 2px rgba(60, 64, 67, 0.3), 0px 1px 3px 1px rgba(60, 64, 67, 0.15);\n",
              "      fill: #174EA6;\n",
              "    }\n",
              "\n",
              "    [theme=dark] .colab-df-convert {\n",
              "      background-color: #3B4455;\n",
              "      fill: #D2E3FC;\n",
              "    }\n",
              "\n",
              "    [theme=dark] .colab-df-convert:hover {\n",
              "      background-color: #434B5C;\n",
              "      box-shadow: 0px 1px 3px 1px rgba(0, 0, 0, 0.15);\n",
              "      filter: drop-shadow(0px 1px 2px rgba(0, 0, 0, 0.3));\n",
              "      fill: #FFFFFF;\n",
              "    }\n",
              "  </style>\n",
              "\n",
              "      <script>\n",
              "        const buttonEl =\n",
              "          document.querySelector('#df-b198c8ca-9406-4621-81b8-6ce0b6156918 button.colab-df-convert');\n",
              "        buttonEl.style.display =\n",
              "          google.colab.kernel.accessAllowed ? 'block' : 'none';\n",
              "\n",
              "        async function convertToInteractive(key) {\n",
              "          const element = document.querySelector('#df-b198c8ca-9406-4621-81b8-6ce0b6156918');\n",
              "          const dataTable =\n",
              "            await google.colab.kernel.invokeFunction('convertToInteractive',\n",
              "                                                     [key], {});\n",
              "          if (!dataTable) return;\n",
              "\n",
              "          const docLinkHtml = 'Like what you see? Visit the ' +\n",
              "            '<a target=\"_blank\" href=https://colab.research.google.com/notebooks/data_table.ipynb>data table notebook</a>'\n",
              "            + ' to learn more about interactive tables.';\n",
              "          element.innerHTML = '';\n",
              "          dataTable['output_type'] = 'display_data';\n",
              "          await google.colab.output.renderOutput(dataTable, element);\n",
              "          const docLink = document.createElement('div');\n",
              "          docLink.innerHTML = docLinkHtml;\n",
              "          element.appendChild(docLink);\n",
              "        }\n",
              "      </script>\n",
              "    </div>\n",
              "  </div>\n",
              "  "
            ]
          },
          "metadata": {},
          "execution_count": 77
        }
      ]
    },
    {
      "cell_type": "markdown",
      "source": [
        "## Método de la Transformada Inversa - Continua"
      ],
      "metadata": {
        "id": "iqCpO53X1dmS"
      }
    },
    {
      "cell_type": "markdown",
      "source": [
        "### Enunciado"
      ],
      "metadata": {
        "id": "hKrulxUb3ZXH"
      }
    },
    {
      "cell_type": "markdown",
      "source": [
        "1. Escoger un tipo de función de trasformación inversa, y ponerlo en práctica utilizando Python.\n",
        "\n",
        "2. En base a la función elegida, desarrollar un ejemplo práctico, que abarque los siguientes puntos:\n",
        "    * Problema (1 pts)\n",
        "    * Simulación (2 pts)\n",
        "    * Gráficas/Resultados (2 pts)\n",
        "\n",
        "**Consideraciones previas:**\n",
        "* Se distribuyen las funciones en base al orden de lista.\n",
        "* Se requiere que la simulación se realice con 100 números de ejemplo."
      ],
      "metadata": {
        "id": "l3MZtDrS3e4h"
      }
    },
    {
      "cell_type": "markdown",
      "source": [
        "En base a la lista (21), la función de transformada inversa seleccionada es la **exponencial**. Cuya forma es:\n",
        "\n",
        "> $- \\frac{ln\\left ( 1-U \\right )}{\\lambda }$\n",
        "\n",
        "Y, cuya forma simplificada, es:\n",
        "\n",
        "> $- \\frac{ln\\left ( U \\right )}{\\lambda }$"
      ],
      "metadata": {
        "id": "pCIVcNqV5sVx"
      }
    },
    {
      "cell_type": "markdown",
      "source": [
        "### Resolución"
      ],
      "metadata": {
        "id": "Ans__U9i40LF"
      }
    },
    {
      "cell_type": "markdown",
      "source": [
        "#### Problema"
      ],
      "metadata": {
        "id": "wy5N6Sjp5D9G"
      }
    },
    {
      "cell_type": "markdown",
      "source": [
        "**NuvaNet** es un proveedor de servicios de internet y servicios en la nube, que recientemente se ha posicionado en la ciudad de Cuenca.\n",
        "\n",
        "Los datos que se registran en su Call Center, de Atención al Cliente, determinan una **media de 5 minutos**, la duración de las llamadas con sus clientes, y con un **comportamiento exponencial**.\n",
        "\n",
        "En base a lo anteriormente descrito, se pide realizar una simulación del comportamiento de las llamadas con 100 datos. Por lo tanto, se deberán generar 100 números pseudoaleatorios, y aplicar la ecuación generadora exponencial."
      ],
      "metadata": {
        "id": "_Qona04z5FnF"
      }
    },
    {
      "cell_type": "markdown",
      "source": [
        "#### Simulación"
      ],
      "metadata": {
        "id": "6SNpm1J15GF-"
      }
    },
    {
      "cell_type": "code",
      "source": [
        "# Generación de números pseudoaleatorios\n",
        "numbers = get_random_numbers()\n",
        "\n",
        "# Obtención del tiempo de servicio\n",
        "time = 5\n",
        "samples = get_samples(\n",
        "    numbers,\n",
        "    time\n",
        ")\n",
        "\n",
        "# Generación de un dataframe para la visualización\n",
        "df = generate_dataframe(\n",
        "    numbers,\n",
        "    samples\n",
        ")\n",
        "\n",
        "df.head()"
      ],
      "metadata": {
        "colab": {
          "base_uri": "https://localhost:8080/",
          "height": 206
        },
        "id": "qxKb3kuM3Yp6",
        "outputId": "9a20e7d6-c231-47d4-a10c-12652e1efb3c"
      },
      "execution_count": 80,
      "outputs": [
        {
          "output_type": "execute_result",
          "data": {
            "text/plain": [
              "         ri  tiempo_llamada\n",
              "0  0.600962        1.837397\n",
              "1  0.754482        2.808774\n",
              "2  0.120435        0.256656\n",
              "3  0.223812        0.506720\n",
              "4  0.355442        0.878380"
            ],
            "text/html": [
              "\n",
              "  <div id=\"df-1e20f929-63d6-478c-af4c-80ac755033ea\">\n",
              "    <div class=\"colab-df-container\">\n",
              "      <div>\n",
              "<style scoped>\n",
              "    .dataframe tbody tr th:only-of-type {\n",
              "        vertical-align: middle;\n",
              "    }\n",
              "\n",
              "    .dataframe tbody tr th {\n",
              "        vertical-align: top;\n",
              "    }\n",
              "\n",
              "    .dataframe thead th {\n",
              "        text-align: right;\n",
              "    }\n",
              "</style>\n",
              "<table border=\"1\" class=\"dataframe\">\n",
              "  <thead>\n",
              "    <tr style=\"text-align: right;\">\n",
              "      <th></th>\n",
              "      <th>ri</th>\n",
              "      <th>tiempo_llamada</th>\n",
              "    </tr>\n",
              "  </thead>\n",
              "  <tbody>\n",
              "    <tr>\n",
              "      <th>0</th>\n",
              "      <td>0.600962</td>\n",
              "      <td>1.837397</td>\n",
              "    </tr>\n",
              "    <tr>\n",
              "      <th>1</th>\n",
              "      <td>0.754482</td>\n",
              "      <td>2.808774</td>\n",
              "    </tr>\n",
              "    <tr>\n",
              "      <th>2</th>\n",
              "      <td>0.120435</td>\n",
              "      <td>0.256656</td>\n",
              "    </tr>\n",
              "    <tr>\n",
              "      <th>3</th>\n",
              "      <td>0.223812</td>\n",
              "      <td>0.506720</td>\n",
              "    </tr>\n",
              "    <tr>\n",
              "      <th>4</th>\n",
              "      <td>0.355442</td>\n",
              "      <td>0.878380</td>\n",
              "    </tr>\n",
              "  </tbody>\n",
              "</table>\n",
              "</div>\n",
              "      <button class=\"colab-df-convert\" onclick=\"convertToInteractive('df-1e20f929-63d6-478c-af4c-80ac755033ea')\"\n",
              "              title=\"Convert this dataframe to an interactive table.\"\n",
              "              style=\"display:none;\">\n",
              "        \n",
              "  <svg xmlns=\"http://www.w3.org/2000/svg\" height=\"24px\"viewBox=\"0 0 24 24\"\n",
              "       width=\"24px\">\n",
              "    <path d=\"M0 0h24v24H0V0z\" fill=\"none\"/>\n",
              "    <path d=\"M18.56 5.44l.94 2.06.94-2.06 2.06-.94-2.06-.94-.94-2.06-.94 2.06-2.06.94zm-11 1L8.5 8.5l.94-2.06 2.06-.94-2.06-.94L8.5 2.5l-.94 2.06-2.06.94zm10 10l.94 2.06.94-2.06 2.06-.94-2.06-.94-.94-2.06-.94 2.06-2.06.94z\"/><path d=\"M17.41 7.96l-1.37-1.37c-.4-.4-.92-.59-1.43-.59-.52 0-1.04.2-1.43.59L10.3 9.45l-7.72 7.72c-.78.78-.78 2.05 0 2.83L4 21.41c.39.39.9.59 1.41.59.51 0 1.02-.2 1.41-.59l7.78-7.78 2.81-2.81c.8-.78.8-2.07 0-2.86zM5.41 20L4 18.59l7.72-7.72 1.47 1.35L5.41 20z\"/>\n",
              "  </svg>\n",
              "      </button>\n",
              "      \n",
              "  <style>\n",
              "    .colab-df-container {\n",
              "      display:flex;\n",
              "      flex-wrap:wrap;\n",
              "      gap: 12px;\n",
              "    }\n",
              "\n",
              "    .colab-df-convert {\n",
              "      background-color: #E8F0FE;\n",
              "      border: none;\n",
              "      border-radius: 50%;\n",
              "      cursor: pointer;\n",
              "      display: none;\n",
              "      fill: #1967D2;\n",
              "      height: 32px;\n",
              "      padding: 0 0 0 0;\n",
              "      width: 32px;\n",
              "    }\n",
              "\n",
              "    .colab-df-convert:hover {\n",
              "      background-color: #E2EBFA;\n",
              "      box-shadow: 0px 1px 2px rgba(60, 64, 67, 0.3), 0px 1px 3px 1px rgba(60, 64, 67, 0.15);\n",
              "      fill: #174EA6;\n",
              "    }\n",
              "\n",
              "    [theme=dark] .colab-df-convert {\n",
              "      background-color: #3B4455;\n",
              "      fill: #D2E3FC;\n",
              "    }\n",
              "\n",
              "    [theme=dark] .colab-df-convert:hover {\n",
              "      background-color: #434B5C;\n",
              "      box-shadow: 0px 1px 3px 1px rgba(0, 0, 0, 0.15);\n",
              "      filter: drop-shadow(0px 1px 2px rgba(0, 0, 0, 0.3));\n",
              "      fill: #FFFFFF;\n",
              "    }\n",
              "  </style>\n",
              "\n",
              "      <script>\n",
              "        const buttonEl =\n",
              "          document.querySelector('#df-1e20f929-63d6-478c-af4c-80ac755033ea button.colab-df-convert');\n",
              "        buttonEl.style.display =\n",
              "          google.colab.kernel.accessAllowed ? 'block' : 'none';\n",
              "\n",
              "        async function convertToInteractive(key) {\n",
              "          const element = document.querySelector('#df-1e20f929-63d6-478c-af4c-80ac755033ea');\n",
              "          const dataTable =\n",
              "            await google.colab.kernel.invokeFunction('convertToInteractive',\n",
              "                                                     [key], {});\n",
              "          if (!dataTable) return;\n",
              "\n",
              "          const docLinkHtml = 'Like what you see? Visit the ' +\n",
              "            '<a target=\"_blank\" href=https://colab.research.google.com/notebooks/data_table.ipynb>data table notebook</a>'\n",
              "            + ' to learn more about interactive tables.';\n",
              "          element.innerHTML = '';\n",
              "          dataTable['output_type'] = 'display_data';\n",
              "          await google.colab.output.renderOutput(dataTable, element);\n",
              "          const docLink = document.createElement('div');\n",
              "          docLink.innerHTML = docLinkHtml;\n",
              "          element.appendChild(docLink);\n",
              "        }\n",
              "      </script>\n",
              "    </div>\n",
              "  </div>\n",
              "  "
            ]
          },
          "metadata": {},
          "execution_count": 80
        }
      ]
    },
    {
      "cell_type": "code",
      "source": [
        "df.describe()"
      ],
      "metadata": {
        "colab": {
          "base_uri": "https://localhost:8080/",
          "height": 300
        },
        "id": "yzEp_5MPpRgY",
        "outputId": "ecfc268d-f8ec-4e07-f097-9dca03275696"
      },
      "execution_count": 84,
      "outputs": [
        {
          "output_type": "execute_result",
          "data": {
            "text/plain": [
              "               ri  tiempo_llamada\n",
              "count  100.000000      100.000000\n",
              "mean     0.437873        1.644122\n",
              "std      0.268784        2.010502\n",
              "min      0.006726        0.013497\n",
              "25%      0.216588        0.488259\n",
              "50%      0.414734        1.071407\n",
              "75%      0.645555        2.074474\n",
              "max      0.999011       13.838234"
            ],
            "text/html": [
              "\n",
              "  <div id=\"df-3e563f1b-2c72-4ed3-8246-bc58ae7d34d5\">\n",
              "    <div class=\"colab-df-container\">\n",
              "      <div>\n",
              "<style scoped>\n",
              "    .dataframe tbody tr th:only-of-type {\n",
              "        vertical-align: middle;\n",
              "    }\n",
              "\n",
              "    .dataframe tbody tr th {\n",
              "        vertical-align: top;\n",
              "    }\n",
              "\n",
              "    .dataframe thead th {\n",
              "        text-align: right;\n",
              "    }\n",
              "</style>\n",
              "<table border=\"1\" class=\"dataframe\">\n",
              "  <thead>\n",
              "    <tr style=\"text-align: right;\">\n",
              "      <th></th>\n",
              "      <th>ri</th>\n",
              "      <th>tiempo_llamada</th>\n",
              "    </tr>\n",
              "  </thead>\n",
              "  <tbody>\n",
              "    <tr>\n",
              "      <th>count</th>\n",
              "      <td>100.000000</td>\n",
              "      <td>100.000000</td>\n",
              "    </tr>\n",
              "    <tr>\n",
              "      <th>mean</th>\n",
              "      <td>0.437873</td>\n",
              "      <td>1.644122</td>\n",
              "    </tr>\n",
              "    <tr>\n",
              "      <th>std</th>\n",
              "      <td>0.268784</td>\n",
              "      <td>2.010502</td>\n",
              "    </tr>\n",
              "    <tr>\n",
              "      <th>min</th>\n",
              "      <td>0.006726</td>\n",
              "      <td>0.013497</td>\n",
              "    </tr>\n",
              "    <tr>\n",
              "      <th>25%</th>\n",
              "      <td>0.216588</td>\n",
              "      <td>0.488259</td>\n",
              "    </tr>\n",
              "    <tr>\n",
              "      <th>50%</th>\n",
              "      <td>0.414734</td>\n",
              "      <td>1.071407</td>\n",
              "    </tr>\n",
              "    <tr>\n",
              "      <th>75%</th>\n",
              "      <td>0.645555</td>\n",
              "      <td>2.074474</td>\n",
              "    </tr>\n",
              "    <tr>\n",
              "      <th>max</th>\n",
              "      <td>0.999011</td>\n",
              "      <td>13.838234</td>\n",
              "    </tr>\n",
              "  </tbody>\n",
              "</table>\n",
              "</div>\n",
              "      <button class=\"colab-df-convert\" onclick=\"convertToInteractive('df-3e563f1b-2c72-4ed3-8246-bc58ae7d34d5')\"\n",
              "              title=\"Convert this dataframe to an interactive table.\"\n",
              "              style=\"display:none;\">\n",
              "        \n",
              "  <svg xmlns=\"http://www.w3.org/2000/svg\" height=\"24px\"viewBox=\"0 0 24 24\"\n",
              "       width=\"24px\">\n",
              "    <path d=\"M0 0h24v24H0V0z\" fill=\"none\"/>\n",
              "    <path d=\"M18.56 5.44l.94 2.06.94-2.06 2.06-.94-2.06-.94-.94-2.06-.94 2.06-2.06.94zm-11 1L8.5 8.5l.94-2.06 2.06-.94-2.06-.94L8.5 2.5l-.94 2.06-2.06.94zm10 10l.94 2.06.94-2.06 2.06-.94-2.06-.94-.94-2.06-.94 2.06-2.06.94z\"/><path d=\"M17.41 7.96l-1.37-1.37c-.4-.4-.92-.59-1.43-.59-.52 0-1.04.2-1.43.59L10.3 9.45l-7.72 7.72c-.78.78-.78 2.05 0 2.83L4 21.41c.39.39.9.59 1.41.59.51 0 1.02-.2 1.41-.59l7.78-7.78 2.81-2.81c.8-.78.8-2.07 0-2.86zM5.41 20L4 18.59l7.72-7.72 1.47 1.35L5.41 20z\"/>\n",
              "  </svg>\n",
              "      </button>\n",
              "      \n",
              "  <style>\n",
              "    .colab-df-container {\n",
              "      display:flex;\n",
              "      flex-wrap:wrap;\n",
              "      gap: 12px;\n",
              "    }\n",
              "\n",
              "    .colab-df-convert {\n",
              "      background-color: #E8F0FE;\n",
              "      border: none;\n",
              "      border-radius: 50%;\n",
              "      cursor: pointer;\n",
              "      display: none;\n",
              "      fill: #1967D2;\n",
              "      height: 32px;\n",
              "      padding: 0 0 0 0;\n",
              "      width: 32px;\n",
              "    }\n",
              "\n",
              "    .colab-df-convert:hover {\n",
              "      background-color: #E2EBFA;\n",
              "      box-shadow: 0px 1px 2px rgba(60, 64, 67, 0.3), 0px 1px 3px 1px rgba(60, 64, 67, 0.15);\n",
              "      fill: #174EA6;\n",
              "    }\n",
              "\n",
              "    [theme=dark] .colab-df-convert {\n",
              "      background-color: #3B4455;\n",
              "      fill: #D2E3FC;\n",
              "    }\n",
              "\n",
              "    [theme=dark] .colab-df-convert:hover {\n",
              "      background-color: #434B5C;\n",
              "      box-shadow: 0px 1px 3px 1px rgba(0, 0, 0, 0.15);\n",
              "      filter: drop-shadow(0px 1px 2px rgba(0, 0, 0, 0.3));\n",
              "      fill: #FFFFFF;\n",
              "    }\n",
              "  </style>\n",
              "\n",
              "      <script>\n",
              "        const buttonEl =\n",
              "          document.querySelector('#df-3e563f1b-2c72-4ed3-8246-bc58ae7d34d5 button.colab-df-convert');\n",
              "        buttonEl.style.display =\n",
              "          google.colab.kernel.accessAllowed ? 'block' : 'none';\n",
              "\n",
              "        async function convertToInteractive(key) {\n",
              "          const element = document.querySelector('#df-3e563f1b-2c72-4ed3-8246-bc58ae7d34d5');\n",
              "          const dataTable =\n",
              "            await google.colab.kernel.invokeFunction('convertToInteractive',\n",
              "                                                     [key], {});\n",
              "          if (!dataTable) return;\n",
              "\n",
              "          const docLinkHtml = 'Like what you see? Visit the ' +\n",
              "            '<a target=\"_blank\" href=https://colab.research.google.com/notebooks/data_table.ipynb>data table notebook</a>'\n",
              "            + ' to learn more about interactive tables.';\n",
              "          element.innerHTML = '';\n",
              "          dataTable['output_type'] = 'display_data';\n",
              "          await google.colab.output.renderOutput(dataTable, element);\n",
              "          const docLink = document.createElement('div');\n",
              "          docLink.innerHTML = docLinkHtml;\n",
              "          element.appendChild(docLink);\n",
              "        }\n",
              "      </script>\n",
              "    </div>\n",
              "  </div>\n",
              "  "
            ]
          },
          "metadata": {},
          "execution_count": 84
        }
      ]
    },
    {
      "cell_type": "markdown",
      "source": [
        "#### Gráficas/Resultados"
      ],
      "metadata": {
        "id": "-zcDxZWV5IyB"
      }
    },
    {
      "cell_type": "markdown",
      "source": [
        "##### Gráfica: Función de Densidad de Probabilidad (PDF)"
      ],
      "metadata": {
        "id": "nIJ_ayy0gYU-"
      }
    },
    {
      "cell_type": "code",
      "source": [
        "x = np.linspace(\n",
        "    min(samples),\n",
        "    max(samples)\n",
        ")\n",
        "# x = samples\n",
        "exp_pdf = stats.expon.pdf(x)\n",
        "# exp_pdf = get_pdf(x, time)\n",
        "\n",
        "plot_function(\n",
        "    x = x,\n",
        "    y = exp_pdf,\n",
        "    title = 'Función de Densidad de Probabilidad - D. Exponencial'\n",
        ")"
      ],
      "metadata": {
        "colab": {
          "base_uri": "https://localhost:8080/",
          "height": 295
        },
        "id": "z-KWtmZo5Lin",
        "outputId": "fff8c36e-78fa-4417-859a-14d84c3ba75f"
      },
      "execution_count": 99,
      "outputs": [
        {
          "output_type": "display_data",
          "data": {
            "text/plain": [
              "<Figure size 432x288 with 1 Axes>"
            ],
            "image/png": "[encoded data removed]"
          },
          "metadata": {
            "needs_background": "light"
          }
        }
      ]
    },
    {
      "cell_type": "markdown",
      "source": [
        "##### Gráfica: Función de Probabilidad Acumulada (CDF)"
      ],
      "metadata": {
        "id": "sx9NV25nggfr"
      }
    },
    {
      "cell_type": "code",
      "source": [
        "x = np.linspace(\n",
        "    min(samples),\n",
        "    max(samples),\n",
        "    # 100\n",
        ")\n",
        "\n",
        "exp_cdf = stats.expon.cdf(x)\n",
        "\n",
        "plot_function(\n",
        "    x = x,\n",
        "    y = exp_cdf,\n",
        "    title = 'Función de Probabilidad Acumulada - D. Exponencial'\n",
        ")"
      ],
      "metadata": {
        "colab": {
          "base_uri": "https://localhost:8080/",
          "height": 295
        },
        "id": "VzNoHb_3glpC",
        "outputId": "79ad8429-5bb1-43e8-f93d-1b95a6552b3e"
      },
      "execution_count": 103,
      "outputs": [
        {
          "output_type": "display_data",
          "data": {
            "text/plain": [
              "<Figure size 432x288 with 1 Axes>"
            ],
            "image/png": "[encoded data removed]"
          },
          "metadata": {
            "needs_background": "light"
          }
        }
      ]
    },
    {
      "cell_type": "markdown",
      "source": [
        "##### Gráfica: Histograma"
      ],
      "metadata": {
        "id": "EnFFE7wTiXhH"
      }
    },
    {
      "cell_type": "code",
      "source": [
        "histogram(\n",
        "    samples,\n",
        "    title='Exponencial',\n",
        "    bins = 20\n",
        ")"
      ],
      "metadata": {
        "colab": {
          "base_uri": "https://localhost:8080/",
          "height": 295
        },
        "id": "rihaNi9Tial9",
        "outputId": "334e692d-8412-4b18-8c30-4e6b4ae05207"
      },
      "execution_count": 52,
      "outputs": [
        {
          "output_type": "display_data",
          "data": {
            "text/plain": [
              "<Figure size 432x288 with 1 Axes>"
            ],
            "image/png": "[encoded data removed]"
          },
          "metadata": {
            "needs_background": "light"
          }
        }
      ]
    }
  ]
}
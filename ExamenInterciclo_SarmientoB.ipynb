{
  "nbformat": 4,
  "nbformat_minor": 0,
  "metadata": {
    "colab": {
      "name": "ExamenInterciclo-SarmientoB.ipynb",
      "provenance": [],
      "collapsed_sections": [],
      "authorship_tag": "ABX9TyOODLEnGT1wH8UjNBq7FilZ",
      "include_colab_link": true
    },
    "kernelspec": {
      "name": "python3",
      "display_name": "Python 3"
    },
    "language_info": {
      "name": "python"
    }
  },
  "cells": [
    {
      "cell_type": "markdown",
      "metadata": {
        "id": "view-in-github",
        "colab_type": "text"
      },
      "source": [
        "<a href=\"https://colab.research.google.com/github/bryansb/simulacion/blob/main/ExamenInterciclo_SarmientoB.ipynb\" target=\"_parent\"><img src=\"https://colab.research.google.com/assets/colab-badge.svg\" alt=\"Open In Colab\"/></a>"
      ]
    },
    {
      "cell_type": "code",
      "execution_count": 22,
      "metadata": {
        "id": "QXN0eHHZc2-4"
      },
      "outputs": [],
      "source": [
        "# Imports\n",
        "import math\n",
        "import random\n",
        "import matplotlib.pyplot as plt\n",
        "import numpy as np\n",
        "\n",
        "from collections import Counter"
      ]
    },
    {
      "cell_type": "code",
      "source": [
        "# Funciones Generadoras\n",
        "def middle_square_generator(Xo=8370, n=4, iter=10, log=False):\n",
        "\n",
        "    # Se comprueba que la condición de \"n\"\n",
        "    if (n<=3):\n",
        "        print('El valor de \"n\" debe ser mayor a 3')\n",
        "        return -1\n",
        "\n",
        "    Xn = Xo\n",
        "    numbers = []\n",
        "\n",
        "    for i in range(iter):\n",
        "        Xnn = Xn**2\n",
        "        Txnn = str(Xnn).zfill(8)\n",
        "        size = len(Txnn)\n",
        "        Ui = int(Txnn[int(size/2-n/2):int(size/2+n/2)])\n",
        "        Rn = Ui / (int('9'*n)+1)\n",
        "        # numbers.append(round(Rn, 5))\n",
        "        numbers.append(Rn)\n",
        "\n",
        "        if(log):\n",
        "            print(str(i) + \"\\t\" + str(Xn) + \"\\t\"+ str(Ui)+\"\\t\"+str(Rn))\n",
        "\n",
        "        Xn = Ui\n",
        "        \n",
        "    return numbers\n",
        "\n",
        "def linear_congruential_generator(Xo=4370, a=3, b=5, m=19, iter=10, log=False):\n",
        "    Xn = Xo\n",
        "    numbers = []\n",
        "\n",
        "    for i in range(iter):\n",
        "        Xnn = (a*Xn+b) % m\n",
        "        Ui = Xnn/m\n",
        "        # numbers.append(round(Ui, 5))\n",
        "        numbers.append(Ui)\n",
        "\n",
        "        if (log):\n",
        "            print(str(i) + \"\\t\"+ str(Xnn)+\"\\t\"+str(Ui))\n",
        "\n",
        "        Xn = Xnn\n",
        "    \n",
        "    return numbers\n",
        "\n",
        "def bin_to_dec(vec):\n",
        "    bin = ''\n",
        "    \n",
        "    for i in vec:\n",
        "        bin = bin + str(i)\n",
        "\n",
        "    return int(bin, 2)\n",
        "\n",
        "def get_decimal_numbers(seq, l, log=False):\n",
        "    seq_dec = []\n",
        "    e = l\n",
        "    end = len(seq)\n",
        "    const = 2**l\n",
        "\n",
        "    for i in range(0, end, l):\n",
        "        s = i\n",
        "        dec = bin_to_dec(seq[s:e])\n",
        "        num = dec/(const)\n",
        "        # seq_dec.append(round(num, 5))\n",
        "        seq_dec.append(num)\n",
        "\n",
        "        if log:\n",
        "            print(f'Binario: {seq[s:e]} = \\\n",
        "                    Decimal: {dec} | {dec} / {const} = {num} ')\n",
        "            \n",
        "        e = e + l\n",
        "\n",
        "    return seq_dec\n",
        "\n",
        "def tausworthe_generator(seed=[1, 1, 1, 1, 1], r=3, q=5, l=4, n=10, period=True):\n",
        "    binary_sequence = seed\n",
        "    start = q\n",
        "\n",
        "    if (period):\n",
        "        end = (2**q)\n",
        "\n",
        "    if (not period):\n",
        "        end = n*l\n",
        "\n",
        "    for i in range(start, end):\n",
        "        bir = i-r\n",
        "        biq = i-q\n",
        "        bi = binary_sequence[bir] ^ binary_sequence[biq] # XOR\n",
        "        binary_sequence.append(bi)\n",
        "\n",
        "    numbers = get_decimal_numbers(binary_sequence, l, log=False)\n",
        "\n",
        "    return numbers\n",
        "\n",
        "def python_generator(N=100):\n",
        "    numbers = []\n",
        "    random.seed(1032022)\n",
        "    # [numbers.append(round(random.random(), 5))for i in range(N)]\n",
        "    [numbers.append(random.random()) for i in range(N)]\n",
        "    return numbers\n"
      ],
      "metadata": {
        "id": "Rj2FM9-UdNIX"
      },
      "execution_count": 163,
      "outputs": []
    },
    {
      "cell_type": "code",
      "source": [
        "def trunc(num, digits):\n",
        "   sp = str(num).split('.')\n",
        "   return '.'.join([sp[0], sp[1][:digits]])\n",
        "\n",
        "\n",
        "# Funciones Poquer\n",
        "def analyse_hand(hand, hands):\n",
        "    hand_list = []\n",
        "    hand_list.extend(hand.values())\n",
        "\n",
        "    if hand_list == []:\n",
        "        hands['TD'] += 1\n",
        "\n",
        "    if hand_list == [2]:\n",
        "        hands['1P'] += 1\n",
        "\n",
        "    if hand_list == [2, 2]:\n",
        "        hands['2P'] += 1  \n",
        "\n",
        "    if (hand_list == [2, 3]) or (hand_list == [3, 2]):\n",
        "        hands['TP'] += 1 \n",
        "\n",
        "    if hand_list == [3]:\n",
        "        hands['T'] += 1\n",
        "\n",
        "    if hand_list == [4]:\n",
        "        hands['P'] += 1\n",
        "\n",
        "    if hand_list == [5]:\n",
        "        hands['Q'] += 1\n",
        "\n",
        "    return hands\n",
        "\n",
        "\n",
        "def test_poker(numbers, log=False, zeros=True):\n",
        "    # pass\n",
        "    hands = {'TD': 0, '1P': 0, '2P': 0, 'TP': 0, 'T': 0, 'P': 0, 'Q': 0,}\n",
        "    prob = [0.3024, 0.5040, 0.1080, 0.0090, 0.0720, 0.0045, 0.0001]\n",
        "    numbers_len = len(numbers)\n",
        "    Ei_list = []\n",
        "\n",
        "    for num in numbers:\n",
        "        num1 = trunc(num, 5) # Temp\n",
        "        # print(num1) # Temp\n",
        "\n",
        "        num_str_temp = str(num)\n",
        "        num_str = num_str_temp[:7]\n",
        "        num_list = num_str.split(sep='.')\n",
        "        num_temp = num_list[1] # Temp\n",
        "        if(zeros):\n",
        "            num_temp = num_list[1].ljust(5, '0')\n",
        "        num_sep = [a for a in str(num_temp)]\n",
        "\n",
        "        if (log):\n",
        "            print(num_sep)\n",
        "\n",
        "        count = Counter(num_sep)\n",
        "        count_result = {}\n",
        "        count_list = []\n",
        "        for key in count:  \n",
        "            value = count[key]\n",
        "\n",
        "            if value != 1:\n",
        "                count_result[key] = value\n",
        "            \n",
        "        # count_list.append(count_result)\n",
        "        \n",
        "        hands = analyse_hand(count_result, hands)\n",
        "\n",
        "    for value in prob:\n",
        "        Ei = value * numbers_len\n",
        "        Ei_list.append(Ei)\n",
        "\n",
        "    # print(Ei_list)\n",
        "\n",
        "    result = 0\n",
        "    i = 0\n",
        "    for value in hands.values():\n",
        "        up = (Ei_list[i] - value)**2\n",
        "        down = Ei_list[i]\n",
        "\n",
        "        temp = up / down\n",
        "        result += temp\n",
        "        i += 1\n",
        "        \n",
        "\n",
        "    print(f'El conteo es: { hands }')\n",
        "    print(f'El resultado es: { result }')\n",
        "\n",
        "\n",
        "    if (result < 12.59):\n",
        "        return 'NO'\n",
        "\n",
        "    if (result > 12.59):\n",
        "        return 'SI'"
      ],
      "metadata": {
        "id": "Q8C5RclvifBP"
      },
      "execution_count": 228,
      "outputs": []
    },
    {
      "cell_type": "code",
      "source": [
        "# Testing\n",
        "numbers = [0.258311, 0.87852, 0.11231, 0.75775, 0.44442, 0.22222, \n",
        "           0.90901, 0.55555, 0.60660, 0.02110]\n",
        "\n",
        "approved = test_poker(numbers, log=True)\n",
        "print(f'Por lo tanto { approved } se rechaza el conjunto')"
      ],
      "metadata": {
        "colab": {
          "base_uri": "https://localhost:8080/"
        },
        "id": "GZT-4-z9lAVP",
        "outputId": "7215bee1-6a4e-4ff5-b7b4-a35c0f1bd645"
      },
      "execution_count": 230,
      "outputs": [
        {
          "output_type": "stream",
          "name": "stdout",
          "text": [
            "['2', '5', '8', '3', '1']\n",
            "['8', '7', '8', '5', '2']\n",
            "['1', '1', '2', '3', '1']\n",
            "['7', '5', '7', '7', '5']\n",
            "['4', '4', '4', '4', '2']\n",
            "['2', '2', '2', '2', '2']\n",
            "['9', '0', '9', '0', '1']\n",
            "['5', '5', '5', '5', '5']\n",
            "['6', '0', '6', '6', '0']\n",
            "['0', '2', '1', '1', '0']\n",
            "El conteo es: {'TD': 1, '1P': 1, '2P': 2, 'TP': 2, 'T': 1, 'P': 1, 'Q': 2}\n",
            "El resultado es: 4062.2883597883606\n",
            "Por lo tanto SI se rechaza el conjunto\n"
          ]
        }
      ]
    },
    {
      "cell_type": "code",
      "source": [
        "testing = [0.06141, 0.72484, 0.81792, 0.48999, 0.94107, 0.18590, 0.06060, 0.70688, \n",
        "           0.52953, 0.50502, 0.30444, 0.04127, 0.67347, 0.28103, 0.99367, 0.14411,\n",
        "           0.87648, 0.64794, 0.11223, 0.25357, 0.44598, 0.31555, 0.73997, 0.27813,\n",
        "           0.62182, 0.82578, 0.56766, 0.85923, 0.51483, 0.09099]\n",
        "\n",
        "approved = test_poker(testing, log=True)\n",
        "print(f'Por lo tanto { approved } se rechaza el conjunto')"
      ],
      "metadata": {
        "colab": {
          "base_uri": "https://localhost:8080/"
        },
        "id": "Nl_fUfqyIcXx",
        "outputId": "f9769c55-493c-44f7-edf9-7aa1758b47f0"
      },
      "execution_count": 215,
      "outputs": [
        {
          "output_type": "stream",
          "name": "stdout",
          "text": [
            "['0', '6', '1', '4', '1']\n",
            "['7', '2', '4', '8', '4']\n",
            "['8', '1', '7', '9', '2']\n",
            "['4', '8', '9', '9', '9']\n",
            "['9', '4', '1', '0', '7']\n",
            "['1', '8', '5', '9', '0']\n",
            "['0', '6', '0', '6', '0']\n",
            "['7', '0', '6', '8', '8']\n",
            "['5', '2', '9', '5', '3']\n",
            "['5', '0', '5', '0', '2']\n",
            "['3', '0', '4', '4', '4']\n",
            "['0', '4', '1', '2', '7']\n",
            "['6', '7', '3', '4', '7']\n",
            "['2', '8', '1', '0', '3']\n",
            "['9', '9', '3', '6', '7']\n",
            "['1', '4', '4', '1', '1']\n",
            "['8', '7', '6', '4', '8']\n",
            "['6', '4', '7', '9', '4']\n",
            "['1', '1', '2', '2', '3']\n",
            "['2', '5', '3', '5', '7']\n",
            "['4', '4', '5', '9', '8']\n",
            "['3', '1', '5', '5', '5']\n",
            "['7', '3', '9', '9', '7']\n",
            "['2', '7', '8', '1', '3']\n",
            "['6', '2', '1', '8', '2']\n",
            "['8', '2', '5', '7', '8']\n",
            "['5', '6', '7', '6', '6']\n",
            "['8', '5', '9', '2', '3']\n",
            "['5', '1', '4', '8', '3']\n",
            "['0', '9', '0', '9', '9']\n",
            "El conteo es: {'TD': 8, '1P': 12, '2P': 3, 'TP': 3, 'T': 4, 'P': 0, 'Q': 0}\n",
            "El resultado es: 30.097001763668434\n",
            "Por lo tanto SI se rechaza el conjunto\n"
          ]
        }
      ]
    },
    {
      "cell_type": "code",
      "source": [
        "# Ejecución 1\n",
        "# Cuadrados Medios sin ceros\n",
        "middle_square = middle_square_generator(\n",
        "    Xo = 74731897457, \n",
        "    n = 7, \n",
        "    iter = 100\n",
        ")\n",
        "\n",
        "# middle_square\n",
        "approved = test_poker(middle_square, zeros=False)\n",
        "print(f'Por lo tanto { approved } se rechaza el conjunto')"
      ],
      "metadata": {
        "colab": {
          "base_uri": "https://localhost:8080/"
        },
        "id": "YZkCGPARUKuc",
        "outputId": "7533e2b4-614a-40eb-99b2-a32ac33ecff9"
      },
      "execution_count": 237,
      "outputs": [
        {
          "output_type": "stream",
          "name": "stdout",
          "text": [
            "El conteo es: {'TD': 23, '1P': 57, '2P': 14, 'TP': 1, 'T': 3, 'P': 2, 'Q': 0}\n",
            "El resultado es: 11.355820105820106\n",
            "Por lo tanto NO se rechaza el conjunto\n"
          ]
        }
      ]
    },
    {
      "cell_type": "code",
      "source": [
        "# Ejecución 2\n",
        "# Generador de Congruencia Lineal sin ceros\n",
        "linear_congruential = linear_congruential_generator(\n",
        "    Xo = 7, \n",
        "    a = 74731897457, \n",
        "    b = 37747318974, \n",
        "    m = 19, \n",
        "    iter = 100\n",
        ")\n",
        "\n",
        "# linear_congruential\n",
        "approved = test_poker(linear_congruential, zeros=False)\n",
        "print(f'Por lo tanto { approved } se rechaza el conjunto')"
      ],
      "metadata": {
        "colab": {
          "base_uri": "https://localhost:8080/"
        },
        "id": "mENNLXktT5Y8",
        "outputId": "a258504e-efe8-4314-e978-0df5095a73ee"
      },
      "execution_count": 236,
      "outputs": [
        {
          "output_type": "stream",
          "name": "stdout",
          "text": [
            "El conteo es: {'TD': 100, '1P': 0, '2P': 0, 'TP': 0, 'T': 0, 'P': 0, 'Q': 0}\n",
            "El resultado es: 230.68783068783063\n",
            "Por lo tanto SI se rechaza el conjunto\n"
          ]
        }
      ]
    },
    {
      "cell_type": "code",
      "source": [
        "# Ejecución 3\n",
        "# Generador de Python sin ceros\n",
        "python = python_generator()\n",
        "\n",
        "# python 1.7286\n",
        "approved = test_poker(python, zeros=False)\n",
        "print(f'Por lo tanto { approved } se rechaza el conjunto')"
      ],
      "metadata": {
        "colab": {
          "base_uri": "https://localhost:8080/"
        },
        "id": "osDZsd4nTuZW",
        "outputId": "61bc96e3-cc94-43d8-bf8c-67a1e25fb9bb"
      },
      "execution_count": 233,
      "outputs": [
        {
          "output_type": "stream",
          "name": "stdout",
          "text": [
            "El conteo es: {'TD': 32, '1P': 52, '2P': 7, 'TP': 0, 'T': 9, 'P': 0, 'Q': 0}\n",
            "El resultado es: 3.3002645502645507\n",
            "Por lo tanto NO se rechaza el conjunto\n"
          ]
        }
      ]
    },
    {
      "cell_type": "code",
      "source": [
        "# Ejecución 4\n",
        "# Tausworthe sin zeros\n",
        "tausworthe = tausworthe_generator(\n",
        "    seed = [1, 1, 1, 1, 1, 1, 1, 1, 1, 1, 1, 1, 1, 1, 1], \n",
        "    r = 7, \n",
        "    q = 15, \n",
        "    l = 7, \n",
        "    n = 100, \n",
        "    period = False\n",
        ")\n",
        "\n",
        "# tausworthe\n",
        "approved = test_poker(tausworthe, zeros=False)\n",
        "print(f'Por lo tanto { approved } se rechaza el conjunto')"
      ],
      "metadata": {
        "colab": {
          "base_uri": "https://localhost:8080/"
        },
        "id": "V9EHzkf1j67M",
        "outputId": "22a58d02-b57c-425a-8dc3-f6186d4e196a"
      },
      "execution_count": 232,
      "outputs": [
        {
          "output_type": "stream",
          "name": "stdout",
          "text": [
            "El conteo es: {'TD': 53, '1P': 41, '2P': 4, 'TP': 0, 'T': 2, 'P': 0, 'Q': 0}\n",
            "El resultado es: 28.28042328042328\n",
            "Por lo tanto SI se rechaza el conjunto\n"
          ]
        }
      ]
    },
    {
      "cell_type": "code",
      "source": [
        ""
      ],
      "metadata": {
        "id": "fubW8LE3TnDi"
      },
      "execution_count": null,
      "outputs": []
    }
  ]
}
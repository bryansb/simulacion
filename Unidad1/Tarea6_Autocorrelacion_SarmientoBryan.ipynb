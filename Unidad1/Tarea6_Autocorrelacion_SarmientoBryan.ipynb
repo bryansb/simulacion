{
  "nbformat": 4,
  "nbformat_minor": 0,
  "metadata": {
    "colab": {
      "name": "Tarea6-Autocorrelacion_SarmientoBryan.ipynb",
      "provenance": [],
      "collapsed_sections": [
        "8CWxEhcHBkcx",
        "3EfrYHioB3Wn",
        "_Fj0iloTDELe",
        "lcFZNRfgDXxk",
        "JO5D5Ax0DcU4"
      ],
      "authorship_tag": "ABX9TyNqLgvvC2xpuk/MSh1eDKhI",
      "include_colab_link": true
    },
    "kernelspec": {
      "name": "python3",
      "display_name": "Python 3"
    },
    "language_info": {
      "name": "python"
    }
  },
  "cells": [
    {
      "cell_type": "markdown",
      "metadata": {
        "id": "view-in-github",
        "colab_type": "text"
      },
      "source": [
        "<a href=\"https://colab.research.google.com/github/bryansb/simulacion/blob/main/Unidad1/Tarea6_Autocorrelacion_SarmientoBryan.ipynb\" target=\"_parent\"><img src=\"https://colab.research.google.com/assets/colab-badge.svg\" alt=\"Open In Colab\"/></a>"
      ]
    },
    {
      "cell_type": "markdown",
      "source": [
        "# Tarea 06 - Autocorrelación: Prueba de Aleatoriedad o Independencia\n",
        "- **Nombre:** Sarmiento Basurto Douglas Bryan\n",
        "- **Asignatura:** Simulación"
      ],
      "metadata": {
        "id": "tOhiWxPCDPjq"
      }
    },
    {
      "cell_type": "markdown",
      "source": [
        "## Importación de paquetes"
      ],
      "metadata": {
        "id": "hE4QODjQDQU3"
      }
    },
    {
      "cell_type": "markdown",
      "source": [
        "### Paquetes"
      ],
      "metadata": {
        "id": "zn_hEhvTMzp5"
      }
    },
    {
      "cell_type": "code",
      "execution_count": 1,
      "metadata": {
        "id": "ZqQkazVH3iv0"
      },
      "outputs": [],
      "source": [
        "import numpy as np\n",
        "import pandas as pd \n",
        "import math\n",
        "\n",
        "import matplotlib.pyplot as plt\n",
        "\n",
        "# import sklearn.metrics as metrics\n",
        "from sklearn.metrics import r2_score\n",
        "\n",
        "from sklearn.linear_model import LinearRegression\n",
        "from sklearn.model_selection import train_test_split"
      ]
    },
    {
      "cell_type": "markdown",
      "source": [
        "## Carga del Dataset"
      ],
      "metadata": {
        "id": "ZyH_hI9FM77o"
      }
    },
    {
      "cell_type": "code",
      "source": [
        "path = './forestfires.csv'\n",
        "\n",
        "data = pd.read_csv(path, header=0, delimiter=',')\n",
        "data.head()"
      ],
      "metadata": {
        "colab": {
          "base_uri": "https://localhost:8080/",
          "height": 206
        },
        "id": "shUglQjB7Xjl",
        "outputId": "ef2b02bf-99ff-4e74-ecfb-bfed5ef9b273"
      },
      "execution_count": 2,
      "outputs": [
        {
          "output_type": "execute_result",
          "data": {
            "text/plain": [
              "   X  Y month  day  FFMC   DMC     DC  ISI  temp  RH  wind  rain  area\n",
              "0  7  5   mar  fri  86.2  26.2   94.3  5.1   8.2  51   6.7   0.0   0.0\n",
              "1  7  4   oct  tue  90.6  35.4  669.1  6.7  18.0  33   0.9   0.0   0.0\n",
              "2  7  4   oct  sat  90.6  43.7  686.9  6.7  14.6  33   1.3   0.0   0.0\n",
              "3  8  6   mar  fri  91.7  33.3   77.5  9.0   8.3  97   4.0   0.2   0.0\n",
              "4  8  6   mar  sun  89.3  51.3  102.2  9.6  11.4  99   1.8   0.0   0.0"
            ],
            "text/html": [
              "\n",
              "  <div id=\"df-ef7afcc2-b6c6-4abd-be5a-743911d379b8\">\n",
              "    <div class=\"colab-df-container\">\n",
              "      <div>\n",
              "<style scoped>\n",
              "    .dataframe tbody tr th:only-of-type {\n",
              "        vertical-align: middle;\n",
              "    }\n",
              "\n",
              "    .dataframe tbody tr th {\n",
              "        vertical-align: top;\n",
              "    }\n",
              "\n",
              "    .dataframe thead th {\n",
              "        text-align: right;\n",
              "    }\n",
              "</style>\n",
              "<table border=\"1\" class=\"dataframe\">\n",
              "  <thead>\n",
              "    <tr style=\"text-align: right;\">\n",
              "      <th></th>\n",
              "      <th>X</th>\n",
              "      <th>Y</th>\n",
              "      <th>month</th>\n",
              "      <th>day</th>\n",
              "      <th>FFMC</th>\n",
              "      <th>DMC</th>\n",
              "      <th>DC</th>\n",
              "      <th>ISI</th>\n",
              "      <th>temp</th>\n",
              "      <th>RH</th>\n",
              "      <th>wind</th>\n",
              "      <th>rain</th>\n",
              "      <th>area</th>\n",
              "    </tr>\n",
              "  </thead>\n",
              "  <tbody>\n",
              "    <tr>\n",
              "      <th>0</th>\n",
              "      <td>7</td>\n",
              "      <td>5</td>\n",
              "      <td>mar</td>\n",
              "      <td>fri</td>\n",
              "      <td>86.2</td>\n",
              "      <td>26.2</td>\n",
              "      <td>94.3</td>\n",
              "      <td>5.1</td>\n",
              "      <td>8.2</td>\n",
              "      <td>51</td>\n",
              "      <td>6.7</td>\n",
              "      <td>0.0</td>\n",
              "      <td>0.0</td>\n",
              "    </tr>\n",
              "    <tr>\n",
              "      <th>1</th>\n",
              "      <td>7</td>\n",
              "      <td>4</td>\n",
              "      <td>oct</td>\n",
              "      <td>tue</td>\n",
              "      <td>90.6</td>\n",
              "      <td>35.4</td>\n",
              "      <td>669.1</td>\n",
              "      <td>6.7</td>\n",
              "      <td>18.0</td>\n",
              "      <td>33</td>\n",
              "      <td>0.9</td>\n",
              "      <td>0.0</td>\n",
              "      <td>0.0</td>\n",
              "    </tr>\n",
              "    <tr>\n",
              "      <th>2</th>\n",
              "      <td>7</td>\n",
              "      <td>4</td>\n",
              "      <td>oct</td>\n",
              "      <td>sat</td>\n",
              "      <td>90.6</td>\n",
              "      <td>43.7</td>\n",
              "      <td>686.9</td>\n",
              "      <td>6.7</td>\n",
              "      <td>14.6</td>\n",
              "      <td>33</td>\n",
              "      <td>1.3</td>\n",
              "      <td>0.0</td>\n",
              "      <td>0.0</td>\n",
              "    </tr>\n",
              "    <tr>\n",
              "      <th>3</th>\n",
              "      <td>8</td>\n",
              "      <td>6</td>\n",
              "      <td>mar</td>\n",
              "      <td>fri</td>\n",
              "      <td>91.7</td>\n",
              "      <td>33.3</td>\n",
              "      <td>77.5</td>\n",
              "      <td>9.0</td>\n",
              "      <td>8.3</td>\n",
              "      <td>97</td>\n",
              "      <td>4.0</td>\n",
              "      <td>0.2</td>\n",
              "      <td>0.0</td>\n",
              "    </tr>\n",
              "    <tr>\n",
              "      <th>4</th>\n",
              "      <td>8</td>\n",
              "      <td>6</td>\n",
              "      <td>mar</td>\n",
              "      <td>sun</td>\n",
              "      <td>89.3</td>\n",
              "      <td>51.3</td>\n",
              "      <td>102.2</td>\n",
              "      <td>9.6</td>\n",
              "      <td>11.4</td>\n",
              "      <td>99</td>\n",
              "      <td>1.8</td>\n",
              "      <td>0.0</td>\n",
              "      <td>0.0</td>\n",
              "    </tr>\n",
              "  </tbody>\n",
              "</table>\n",
              "</div>\n",
              "      <button class=\"colab-df-convert\" onclick=\"convertToInteractive('df-ef7afcc2-b6c6-4abd-be5a-743911d379b8')\"\n",
              "              title=\"Convert this dataframe to an interactive table.\"\n",
              "              style=\"display:none;\">\n",
              "        \n",
              "  <svg xmlns=\"http://www.w3.org/2000/svg\" height=\"24px\"viewBox=\"0 0 24 24\"\n",
              "       width=\"24px\">\n",
              "    <path d=\"M0 0h24v24H0V0z\" fill=\"none\"/>\n",
              "    <path d=\"M18.56 5.44l.94 2.06.94-2.06 2.06-.94-2.06-.94-.94-2.06-.94 2.06-2.06.94zm-11 1L8.5 8.5l.94-2.06 2.06-.94-2.06-.94L8.5 2.5l-.94 2.06-2.06.94zm10 10l.94 2.06.94-2.06 2.06-.94-2.06-.94-.94-2.06-.94 2.06-2.06.94z\"/><path d=\"M17.41 7.96l-1.37-1.37c-.4-.4-.92-.59-1.43-.59-.52 0-1.04.2-1.43.59L10.3 9.45l-7.72 7.72c-.78.78-.78 2.05 0 2.83L4 21.41c.39.39.9.59 1.41.59.51 0 1.02-.2 1.41-.59l7.78-7.78 2.81-2.81c.8-.78.8-2.07 0-2.86zM5.41 20L4 18.59l7.72-7.72 1.47 1.35L5.41 20z\"/>\n",
              "  </svg>\n",
              "      </button>\n",
              "      \n",
              "  <style>\n",
              "    .colab-df-container {\n",
              "      display:flex;\n",
              "      flex-wrap:wrap;\n",
              "      gap: 12px;\n",
              "    }\n",
              "\n",
              "    .colab-df-convert {\n",
              "      background-color: #E8F0FE;\n",
              "      border: none;\n",
              "      border-radius: 50%;\n",
              "      cursor: pointer;\n",
              "      display: none;\n",
              "      fill: #1967D2;\n",
              "      height: 32px;\n",
              "      padding: 0 0 0 0;\n",
              "      width: 32px;\n",
              "    }\n",
              "\n",
              "    .colab-df-convert:hover {\n",
              "      background-color: #E2EBFA;\n",
              "      box-shadow: 0px 1px 2px rgba(60, 64, 67, 0.3), 0px 1px 3px 1px rgba(60, 64, 67, 0.15);\n",
              "      fill: #174EA6;\n",
              "    }\n",
              "\n",
              "    [theme=dark] .colab-df-convert {\n",
              "      background-color: #3B4455;\n",
              "      fill: #D2E3FC;\n",
              "    }\n",
              "\n",
              "    [theme=dark] .colab-df-convert:hover {\n",
              "      background-color: #434B5C;\n",
              "      box-shadow: 0px 1px 3px 1px rgba(0, 0, 0, 0.15);\n",
              "      filter: drop-shadow(0px 1px 2px rgba(0, 0, 0, 0.3));\n",
              "      fill: #FFFFFF;\n",
              "    }\n",
              "  </style>\n",
              "\n",
              "      <script>\n",
              "        const buttonEl =\n",
              "          document.querySelector('#df-ef7afcc2-b6c6-4abd-be5a-743911d379b8 button.colab-df-convert');\n",
              "        buttonEl.style.display =\n",
              "          google.colab.kernel.accessAllowed ? 'block' : 'none';\n",
              "\n",
              "        async function convertToInteractive(key) {\n",
              "          const element = document.querySelector('#df-ef7afcc2-b6c6-4abd-be5a-743911d379b8');\n",
              "          const dataTable =\n",
              "            await google.colab.kernel.invokeFunction('convertToInteractive',\n",
              "                                                     [key], {});\n",
              "          if (!dataTable) return;\n",
              "\n",
              "          const docLinkHtml = 'Like what you see? Visit the ' +\n",
              "            '<a target=\"_blank\" href=https://colab.research.google.com/notebooks/data_table.ipynb>data table notebook</a>'\n",
              "            + ' to learn more about interactive tables.';\n",
              "          element.innerHTML = '';\n",
              "          dataTable['output_type'] = 'display_data';\n",
              "          await google.colab.output.renderOutput(dataTable, element);\n",
              "          const docLink = document.createElement('div');\n",
              "          docLink.innerHTML = docLinkHtml;\n",
              "          element.appendChild(docLink);\n",
              "        }\n",
              "      </script>\n",
              "    </div>\n",
              "  </div>\n",
              "  "
            ]
          },
          "metadata": {},
          "execution_count": 2
        }
      ]
    },
    {
      "cell_type": "markdown",
      "source": [
        "## Ejercicio 1 - Covarianza"
      ],
      "metadata": {
        "id": "CaP0TJbDNHzT"
      }
    },
    {
      "cell_type": "markdown",
      "source": [
        "### Funciones"
      ],
      "metadata": {
        "id": "PAKG3iavBTIK"
      }
    },
    {
      "cell_type": "code",
      "source": [
        "def get_cov(var1, var2):\n",
        "    return np.cov(var1, var2)[0][1]"
      ],
      "metadata": {
        "id": "Ka4bt1isBO3A"
      },
      "execution_count": 3,
      "outputs": []
    },
    {
      "cell_type": "markdown",
      "source": [
        "### Covarianza entre la variable viento (wind) y humedad relativa (rH)"
      ],
      "metadata": {
        "id": "9jSv2G4qOTF6"
      }
    },
    {
      "cell_type": "code",
      "source": [
        "wind = data['wind'].values\n",
        "rH = data['RH'].values\n",
        "\n",
        "cov = get_cov(wind, rH)\n",
        "print(f'La covarianza entre WIND y RH, es: {cov}')"
      ],
      "metadata": {
        "colab": {
          "base_uri": "https://localhost:8080/"
        },
        "id": "xOREGbCENDNq",
        "outputId": "25914e26-6634-49ea-e5ee-c3b12c5d8c20"
      },
      "execution_count": 4,
      "outputs": [
        {
          "output_type": "stream",
          "name": "stdout",
          "text": [
            "La covarianza entre WIND y RH, es: 2.0292197082152543\n"
          ]
        }
      ]
    },
    {
      "cell_type": "markdown",
      "source": [
        "### Gráfico de dispersión"
      ],
      "metadata": {
        "id": "X1DVmRKWOaF-"
      }
    },
    {
      "cell_type": "code",
      "source": [
        "fig = plt.figure(dpi=100)\n",
        "plt.scatter(wind, rH)\n",
        "plt.xlabel('Viento (WIND)')\n",
        "plt.ylabel('Humedad Relativa (RH)')\n",
        "plt.title('Dispersión entre las variables WIND y RH')\n",
        "plt.show()"
      ],
      "metadata": {
        "colab": {
          "base_uri": "https://localhost:8080/",
          "height": 405
        },
        "id": "z5Hi55jR_azd",
        "outputId": "963e4763-e3c6-46c5-d14d-a52fb3e0a234"
      },
      "execution_count": 5,
      "outputs": [
        {
          "output_type": "display_data",
          "data": {
            "text/plain": [
              "<Figure size 600x400 with 1 Axes>"
            ],
            "image/png": "[encoded data removed]"
          },
          "metadata": {
            "needs_background": "light"
          }
        }
      ]
    },
    {
      "cell_type": "markdown",
      "source": [
        "### Conclusiones"
      ],
      "metadata": {
        "id": "32029CU3QoHR"
      }
    },
    {
      "cell_type": "markdown",
      "source": [
        "Según el resultado de la covarianza (2.03), se tendría que entre las variables viento (wind) y humedad relativa (RH) existe una relación lineal directa o positiva. Sin embargo, hay que tener en cuenta que la covarianza por sí sola no puede representar de manera cuantitativa la intensidad de esa relación.\n",
        "\n",
        "Es por eso, que al generar la gráfica de dispersión, se puede observar que en realidad no hay una relación débil o fuerte entre las dos variables."
      ],
      "metadata": {
        "id": "wr_mlawnQqKp"
      }
    },
    {
      "cell_type": "markdown",
      "source": [
        "## Ejercicio 2 - Correlación de Pearson"
      ],
      "metadata": {
        "id": "ICYq04cxQq4g"
      }
    },
    {
      "cell_type": "markdown",
      "source": [
        "### Funciones"
      ],
      "metadata": {
        "id": "DIJiePFQBb6p"
      }
    },
    {
      "cell_type": "code",
      "source": [
        "def get_corr_pearson(var1, var2):\n",
        "    return np.corrcoef(wind, rH)[0][1]"
      ],
      "metadata": {
        "id": "kid21vNZBcZQ"
      },
      "execution_count": 6,
      "outputs": []
    },
    {
      "cell_type": "markdown",
      "source": [
        "### Correlación lineal de Pearson entre la variable viento (wind) y humedad relativa (rH)"
      ],
      "metadata": {
        "id": "TLgrz56tRXCp"
      }
    },
    {
      "cell_type": "code",
      "source": [
        "pearson = get_corr_pearson(wind, rH)\n",
        "print(f'La correlación de Pearson entre WIND y RH, es: {pearson}')"
      ],
      "metadata": {
        "colab": {
          "base_uri": "https://localhost:8080/"
        },
        "id": "nvPT5m0oBZ-7",
        "outputId": "e10f4c50-9159-44a6-f017-a2bc97b1ec43"
      },
      "execution_count": 7,
      "outputs": [
        {
          "output_type": "stream",
          "name": "stdout",
          "text": [
            "La correlación de Pearson entre WIND y RH, es: 0.06941006715607252\n"
          ]
        }
      ]
    },
    {
      "cell_type": "markdown",
      "source": [
        "\n",
        "### Regresión Lineal"
      ],
      "metadata": {
        "id": "H7eh8cxARcBA"
      }
    },
    {
      "cell_type": "code",
      "source": [
        "# Se definen los parámetros de entrada\n",
        "X = data[['wind']]\n",
        "y = data['RH']\n",
        "\n",
        "# Se realiza el split del dataset en TEST y TRAIN\n",
        "X_train, X_test, y_train, y_test = train_test_split(\n",
        "                                        X.values.reshape(-1,1),\n",
        "                                        y.values.reshape(-1,1),\n",
        "                                        train_size   = 0.8,\n",
        "                                        random_state = 1,\n",
        "                                        shuffle      = True\n",
        "                                    )\n",
        "\n",
        "# Se ejecuta el modelo\n",
        "linearRegressionModel = LinearRegression()\n",
        "linearRegressionModel.fit(X = X_train.reshape(-1, 1), y = y_train)\n",
        "\n",
        "print(\"Coeficiente:\", list(zip(X.columns, linearRegressionModel.coef_.flatten(), )))\n",
        "\n",
        "# Se evalúa el modelo\n",
        "prediction = linearRegressionModel.predict(X = X_test)\n",
        "r2 = r2_score(\n",
        "    y_true  = y_test,\n",
        "    y_pred  = prediction,\n",
        ")\n",
        "\n",
        "print(f\"El R-Cuadrado del test es: {r2}\")"
      ],
      "metadata": {
        "colab": {
          "base_uri": "https://localhost:8080/"
        },
        "id": "qejF6VjeEa26",
        "outputId": "f6a710e4-205f-4177-f714-15d572a748f7"
      },
      "execution_count": 8,
      "outputs": [
        {
          "output_type": "stream",
          "name": "stdout",
          "text": [
            "Coeficiente: [('wind', 0.40456746051896747)]\n",
            "El R-Cuadrado del test es: -0.008049889584388126\n"
          ]
        }
      ]
    },
    {
      "cell_type": "markdown",
      "source": [
        "### Conclusiones"
      ],
      "metadata": {
        "id": "ejGBUHV7RnLn"
      }
    },
    {
      "cell_type": "markdown",
      "source": [
        "Complementando a los resultados obtenidos del primer ejercicio, se calculó la Correlación de Pearson. Esta correlación comprende valores entre -1 y 1. En este caso, el valor obtenido fue de 0.07, lo que indicaría una correlación positiva, pero no significativa, ya que se acerca más a cero que a uno.\n",
        "\n",
        "Por otro lado, al realizar la regresión lineal, obtenemos un coeficiente de \"0.4\". Esto nos indicaría de igual forma que, mientras la variable predictora crece, igualmente lo hará la variable respuesta. Sin embargo, el cálculo de R-Cuadrado nos da un número negativo, lo cuál indicaría que el modelo como tal se ajusta mal a los datos, y esto se debe a que no hay una relación lineal clara entre las variables wind y RH."
      ],
      "metadata": {
        "id": "ZZGEQBG1RoxT"
      }
    },
    {
      "cell_type": "markdown",
      "source": [
        "## Ejercicio 3 - Autocorrelación"
      ],
      "metadata": {
        "id": "b1fAS5woRqiN"
      }
    },
    {
      "cell_type": "markdown",
      "source": [
        "Aplicar el test de autocorrelación de 100 números \n",
        "generados por:\n",
        "* Productos medios (X0=7363423178943, \n",
        "X1=1324356789532, D=7)\n",
        "\n",
        "* Cuadrados medios (X0=7363423178943)\n",
        "\n",
        "* Congruencias lineales\n",
        "\n",
        "* Tausworthe\n",
        "\n",
        "\n",
        "Deberá indicar si los números tienen autocorrelación \n",
        "o no, y especificar el valor calculado, así como las \n",
        "conclusiones y su correspondiente gráfica de \n",
        "dispersión.\n"
      ],
      "metadata": {
        "id": "3sTeTwwnRy8b"
      }
    },
    {
      "cell_type": "markdown",
      "source": [
        "### Funciones: Autocorrelación"
      ],
      "metadata": {
        "id": "8CWxEhcHBkcx"
      }
    },
    {
      "cell_type": "code",
      "source": [
        "def calculate_m(m, i, N):\n",
        "    return math.trunc((N-i)/m) - 1\n",
        "    # return math.trunc((N-i)/m) \n",
        "\n",
        "def estimator(i, m, M, numbers):\n",
        "    sum = 0\n",
        "    i = i - 1\n",
        "\n",
        "    for k in range(0, M+1, 1):\n",
        "        sum += numbers[i+k*m] * numbers[i+((k+1)*m)]\n",
        "\n",
        "    div = sum / (M + 1)\n",
        "    res = div - 0.25\n",
        "\n",
        "    return res\n",
        "\n",
        "def standard_deviation(M):\n",
        "    up = math.sqrt((13 * M) + 7)\n",
        "    down = 12 * (M + 1)\n",
        "\n",
        "    div = up/down\n",
        "\n",
        "    return div\n",
        "\n",
        "def autocorrelation_test(m, i, N, M, numbers):\n",
        "    approved = 'NO'\n",
        "\n",
        "    est = estimator(i, m, M, numbers)\n",
        "    st_dev = standard_deviation(M)\n",
        "    result = est / st_dev\n",
        "\n",
        "    if (result >= -1.96) and (result <= 1.96):\n",
        "        approved = 'SI'\n",
        "\n",
        "    return result, approved\n",
        "\n",
        "def graph(numbers, title='', dpi=100):\n",
        "    x_label = 'Iteración'\n",
        "    y_label = 'Número Pseudoaleatorio'\n",
        "    x = [i for i in range(100)]\n",
        "\n",
        "    fig = plt.figure(dpi = dpi)\n",
        "    plt.scatter(x, numbers)\n",
        "    plt.xlabel(x_label)\n",
        "    plt.ylabel(y_label)\n",
        "    plt.title(title)\n",
        "    plt.show()"
      ],
      "metadata": {
        "id": "tElROSa6Sa-B"
      },
      "execution_count": 29,
      "outputs": []
    },
    {
      "cell_type": "markdown",
      "source": [
        "### Generador: Productos Medios"
      ],
      "metadata": {
        "id": "ApytWPsHSQ3L"
      }
    },
    {
      "cell_type": "markdown",
      "source": [
        "#### Funciones: Generador"
      ],
      "metadata": {
        "id": "3EfrYHioB3Wn"
      }
    },
    {
      "cell_type": "code",
      "source": [
        "def middle_products_generator(Xo=5015, X1=5734, n=4, iter=10, log=False):\n",
        "\n",
        "    # Se comprueba que la condición de \"n\"\n",
        "    if (n<=3):\n",
        "        print('El valor de \"n\" debe ser mayor a 3')\n",
        "        return -1\n",
        "\n",
        "    numbers = []\n",
        "\n",
        "    for i in range(iter):\n",
        "        Yi = Xo*X1\n",
        "        Txnn = str(Yi).zfill(8)\n",
        "        size = len(Txnn)\n",
        "        Ui = int(Txnn[int(size/2-n/2):int(size/2+n/2)])\n",
        "        Rn = Ui / (int('9'*n)+1)\n",
        "        numbers.append(Rn)\n",
        "\n",
        "        if(log):\n",
        "            print(str(i) + \"\\t\" + str(Yi) + \"\\t\"+ str(Ui)+\"\\t\"+str(Rn))\n",
        "            \n",
        "        Xo = X1\n",
        "        X1 = Ui\n",
        "        \n",
        "    return numbers"
      ],
      "metadata": {
        "id": "XoTv8evCB8O6"
      },
      "execution_count": 10,
      "outputs": []
    },
    {
      "cell_type": "markdown",
      "source": [
        "#### Autocorrelación"
      ],
      "metadata": {
        "id": "QnLaMs4KSXaj"
      }
    },
    {
      "cell_type": "code",
      "source": [
        "numbers_mpg = middle_products_generator(Xo = 7363423178943,\n",
        "                                        X1 = 1324356789532,\n",
        "                                        n = 7,\n",
        "                                        iter = 100\n",
        ")\n",
        "\n",
        "m = 5\n",
        "i = 2\n",
        "N = len(numbers_mpg)\n",
        "\n",
        "M = calculate_m(m, i, N)\n",
        "result_mpg, approved = autocorrelation_test(m, i, N, M, numbers_mpg)\n",
        "print(f'El resultado de la autocorrelación es {result_mpg}')\n",
        "print(f'Por lo tanto, {approved} pasa la prueba de Aleatoriedad')"
      ],
      "metadata": {
        "colab": {
          "base_uri": "https://localhost:8080/"
        },
        "id": "dTKcBDunrVJ5",
        "outputId": "b5a4ad2f-6822-40f0-d3f1-76a5789d68cd"
      },
      "execution_count": 30,
      "outputs": [
        {
          "output_type": "stream",
          "name": "stdout",
          "text": [
            "El resultado de la autocorrelación es 1.43983486420205\n",
            "Por lo tanto, SI pasa la prueba de Aleatoriedad\n"
          ]
        }
      ]
    },
    {
      "cell_type": "markdown",
      "source": [
        "#### Gráfica de dispersión"
      ],
      "metadata": {
        "id": "X-cH1-p3SaHx"
      }
    },
    {
      "cell_type": "code",
      "source": [
        "graph(numbers = numbers_mpg,\n",
        "      title = 'Generación por Productos Medios'\n",
        ")"
      ],
      "metadata": {
        "id": "A_bsaDI2SZ58",
        "colab": {
          "base_uri": "https://localhost:8080/",
          "height": 405
        },
        "outputId": "d22812b8-37c6-4190-e318-3e88fd6a622f"
      },
      "execution_count": 23,
      "outputs": [
        {
          "output_type": "display_data",
          "data": {
            "text/plain": [
              "<Figure size 600x400 with 1 Axes>"
            ],
            "image/png": "[encoded data removed]"
          },
          "metadata": {
            "needs_background": "light"
          }
        }
      ]
    },
    {
      "cell_type": "markdown",
      "source": [
        "### Generador: Cuadrados Medios"
      ],
      "metadata": {
        "id": "lIhXEua4DELe"
      }
    },
    {
      "cell_type": "markdown",
      "source": [
        "#### Funciones: Generador"
      ],
      "metadata": {
        "id": "_Fj0iloTDELe"
      }
    },
    {
      "cell_type": "code",
      "source": [
        "def middle_square_generator(Xo=8370, n=4, iter=10, log=False):\n",
        "\n",
        "    # Se comprueba que la condición de \"n\"\n",
        "    if (n<=3):\n",
        "        print('El valor de \"n\" debe ser mayor a 3')\n",
        "        return -1\n",
        "\n",
        "    Xn = Xo\n",
        "    numbers = []\n",
        "\n",
        "    for i in range(iter):\n",
        "        Xnn = Xn**2\n",
        "        Txnn = str(Xnn).zfill(8)\n",
        "        size = len(Txnn)\n",
        "        Ui = int(Txnn[int(size/2-n/2):int(size/2+n/2)])\n",
        "        Rn = Ui / (int('9'*n)+1)\n",
        "        numbers.append(Rn)\n",
        "\n",
        "        if(log):\n",
        "            print(str(i) + \"\\t\" + str(Xn) + \"\\t\"+ str(Ui)+\"\\t\"+str(Rn))\n",
        "\n",
        "        Xn = Ui\n",
        "        \n",
        "    return numbers"
      ],
      "metadata": {
        "id": "p4I6XLZuDELe"
      },
      "execution_count": 13,
      "outputs": []
    },
    {
      "cell_type": "markdown",
      "source": [
        "#### Autocorrelación"
      ],
      "metadata": {
        "id": "o9nSlYmYDELf"
      }
    },
    {
      "cell_type": "code",
      "source": [
        "numbers_msg = middle_square_generator(Xo = 7363423178943,\n",
        "                                      n = 7,\n",
        "                                      iter = 100\n",
        ")\n",
        "\n",
        "m = 5\n",
        "i = 2\n",
        "N = len(numbers_msg)\n",
        "\n",
        "M = calculate_m(m, i, N)\n",
        "result_msg, approved  = autocorrelation_test(m, i, N, M, numbers_msg)\n",
        "print(f'El resultado de la autocorrelación es {result_msg}')\n",
        "print(f'Por lo tanto, {approved} pasa la prueba de Aleatoriedad')"
      ],
      "metadata": {
        "colab": {
          "base_uri": "https://localhost:8080/"
        },
        "outputId": "0a0dece9-e500-4a71-8cb7-07df94d51ff3",
        "id": "3fLMa9Q1DELf"
      },
      "execution_count": 31,
      "outputs": [
        {
          "output_type": "stream",
          "name": "stdout",
          "text": [
            "El resultado de la autocorrelación es -0.7277444721319289\n",
            "Por lo tanto, SI pasa la prueba de Aleatoriedad\n"
          ]
        }
      ]
    },
    {
      "cell_type": "markdown",
      "source": [
        "#### Gráfica de dispersión"
      ],
      "metadata": {
        "id": "FNNezYx-DELg"
      }
    },
    {
      "cell_type": "code",
      "source": [
        "graph(numbers = numbers_msg,\n",
        "      title = 'Generación por Cuadrados Medios'\n",
        ")"
      ],
      "metadata": {
        "id": "JvUROg61DELg",
        "colab": {
          "base_uri": "https://localhost:8080/",
          "height": 405
        },
        "outputId": "22e4f9f3-f68f-4a89-a4c9-02362a44b3b9"
      },
      "execution_count": 24,
      "outputs": [
        {
          "output_type": "display_data",
          "data": {
            "text/plain": [
              "<Figure size 600x400 with 1 Axes>"
            ],
            "image/png": "[encoded data removed]"
          },
          "metadata": {
            "needs_background": "light"
          }
        }
      ]
    },
    {
      "cell_type": "markdown",
      "source": [
        "### Generador: Congruencia Lineal"
      ],
      "metadata": {
        "id": "N85Kl3xvDXxk"
      }
    },
    {
      "cell_type": "markdown",
      "source": [
        "#### Funciones: Generador"
      ],
      "metadata": {
        "id": "lcFZNRfgDXxk"
      }
    },
    {
      "cell_type": "code",
      "source": [
        "def linear_congruential_generator(Xo=4370, a=3, b=5, m=19, iter=10, log=False):\n",
        "    Xn = Xo\n",
        "    numbers = []\n",
        "\n",
        "    for i in range(iter):\n",
        "        Xnn = (a*Xn+b) % m\n",
        "        Ui = Xnn/m\n",
        "        numbers.append(Ui)\n",
        "\n",
        "        if (log):\n",
        "            print(str(i) + \"\\t\"+ str(Xnn)+\"\\t\"+str(Ui))\n",
        "\n",
        "        Xn = Xnn\n",
        "    \n",
        "    return numbers"
      ],
      "metadata": {
        "id": "zTERI4L0DXxk"
      },
      "execution_count": 16,
      "outputs": []
    },
    {
      "cell_type": "markdown",
      "source": [
        "#### Autocorrelación"
      ],
      "metadata": {
        "id": "ZZqW7UmhDXxk"
      }
    },
    {
      "cell_type": "code",
      "source": [
        "numbers_lcg = linear_congruential_generator(Xo = 7,\n",
        "                                            a = 74731897457, \n",
        "                                            b = 37747318974,\n",
        "                                            m = 19, \n",
        "                                            iter = 100\n",
        ")\n",
        "\n",
        "m = 5\n",
        "i = 2\n",
        "N = len(numbers_lcg)\n",
        "\n",
        "M = calculate_m(m, i, N)\n",
        "result_lcg, approved = autocorrelation_test(m, i, N, M, numbers_lcg)\n",
        "print(f'El resultado de la autocorrelación es {result_lcg}')\n",
        "print(f'Por lo tanto, {approved} pasa la prueba de Aleatoriedad')"
      ],
      "metadata": {
        "id": "3NzjA-yxDXxk",
        "colab": {
          "base_uri": "https://localhost:8080/"
        },
        "outputId": "8d39adcb-f011-4bbe-f580-72b7dd362a30"
      },
      "execution_count": 39,
      "outputs": [
        {
          "output_type": "stream",
          "name": "stdout",
          "text": [
            "El resultado de la autocorrelación es -0.4512665119578127\n",
            "Por lo tanto, SI pasa la prueba de Aleatoriedad\n"
          ]
        }
      ]
    },
    {
      "cell_type": "markdown",
      "source": [
        "#### Gráfica de dispersión"
      ],
      "metadata": {
        "id": "GdGj6PI3DXxl"
      }
    },
    {
      "cell_type": "code",
      "source": [
        "graph(numbers = numbers_lcg,\n",
        "      title = 'Generación por Congruencia Lineal'\n",
        ")"
      ],
      "metadata": {
        "id": "lsODhFwmDXxl",
        "colab": {
          "base_uri": "https://localhost:8080/",
          "height": 405
        },
        "outputId": "da0f05a9-4363-457a-ad97-4faae07827f2"
      },
      "execution_count": 40,
      "outputs": [
        {
          "output_type": "display_data",
          "data": {
            "text/plain": [
              "<Figure size 600x400 with 1 Axes>"
            ],
            "image/png": "[encoded data removed]"
          },
          "metadata": {
            "needs_background": "light"
          }
        }
      ]
    },
    {
      "cell_type": "markdown",
      "source": [
        "### Generador: Tausworthe"
      ],
      "metadata": {
        "id": "zzd-j5AxDcU3"
      }
    },
    {
      "cell_type": "markdown",
      "source": [
        "#### Funciones: Generador"
      ],
      "metadata": {
        "id": "JO5D5Ax0DcU4"
      }
    },
    {
      "cell_type": "code",
      "source": [
        "def tausworthe_generator(seed=[1, 1, 1, 1, 1], r=3, q=5, l=4, n=10, period=True):\n",
        "    binary_sequence = seed\n",
        "    start = q\n",
        "\n",
        "    if (period):\n",
        "        end = (2**q)\n",
        "\n",
        "    if (not period):\n",
        "        end = n*l\n",
        "\n",
        "    for i in range(start, end):\n",
        "        bir = i-r\n",
        "        biq = i-q\n",
        "        bi = binary_sequence[bir] ^ binary_sequence[biq] # XOR\n",
        "        binary_sequence.append(bi)\n",
        "\n",
        "    numbers = get_decimal_numbers(binary_sequence, l, log=False)\n",
        "\n",
        "    return numbers\n",
        "\n",
        "def bin_to_dec(vec):\n",
        "    bin = ''\n",
        "    \n",
        "    for i in vec:\n",
        "        bin = bin + str(i)\n",
        "\n",
        "    return int(bin, 2)\n",
        "\n",
        "def get_decimal_numbers(seq, l, log=False):\n",
        "    seq_dec = []\n",
        "    e = l\n",
        "    end = len(seq)\n",
        "    const = 2**l\n",
        "\n",
        "    for i in range(0, end, l):\n",
        "        s = i\n",
        "        dec = bin_to_dec(seq[s:e])\n",
        "        num = dec/(const)\n",
        "        seq_dec.append(num)\n",
        "\n",
        "        if log:\n",
        "            print(f'Binario: {seq[s:e]} = \\\n",
        "                    Decimal: {dec} | {dec} / {const} = {num} ')\n",
        "            \n",
        "        e = e + l\n",
        "\n",
        "    return seq_dec"
      ],
      "metadata": {
        "id": "jQQj3iQJDcU4"
      },
      "execution_count": 19,
      "outputs": []
    },
    {
      "cell_type": "markdown",
      "source": [
        "#### Autocorrelación"
      ],
      "metadata": {
        "id": "jFrRD7FDDcU5"
      }
    },
    {
      "cell_type": "code",
      "source": [
        "numbers_t = tausworthe_generator(seed = [1, 1, 1, 1, 1, 1, 1], \n",
        "                                  r = 3, \n",
        "                                  q = 7, \n",
        "                                  l = 5, \n",
        "                                  n = 100, \n",
        "                                  period=False\n",
        ")\n",
        "\n",
        "m = 5\n",
        "i = 2\n",
        "N = len(numbers_t)\n",
        "\n",
        "M = calculate_m(m, i, N)\n",
        "result_t, approved = autocorrelation_test(m, i, N, M, numbers_t)\n",
        "print(f'El resultado de la autocorrelación es {result_t}')\n",
        "print(f'Por lo tanto, {approved} pasa la prueba de Aleatoriedad')"
      ],
      "metadata": {
        "id": "83mhvftADcU5",
        "colab": {
          "base_uri": "https://localhost:8080/"
        },
        "outputId": "da12a60e-8d63-4612-d36d-256fe298c237"
      },
      "execution_count": 34,
      "outputs": [
        {
          "output_type": "stream",
          "name": "stdout",
          "text": [
            "El resultado de la autocorrelación es 1.840375611521749\n",
            "Por lo tanto, SI pasa la prueba de Aleatoriedad\n"
          ]
        }
      ]
    },
    {
      "cell_type": "markdown",
      "source": [
        "#### Gráfica de dispersión"
      ],
      "metadata": {
        "id": "ApgHcFPxDcU5"
      }
    },
    {
      "cell_type": "code",
      "source": [
        "graph(numbers = numbers_t,\n",
        "      title = 'Generación por Tausworthe'\n",
        ")"
      ],
      "metadata": {
        "id": "K5oI5In_DcU5",
        "colab": {
          "base_uri": "https://localhost:8080/",
          "height": 405
        },
        "outputId": "7d7370c4-b268-4afb-ceef-4bca59ac9153"
      },
      "execution_count": 26,
      "outputs": [
        {
          "output_type": "display_data",
          "data": {
            "text/plain": [
              "<Figure size 600x400 with 1 Axes>"
            ],
            "image/png": "[encoded data removed]"
          },
          "metadata": {
            "needs_background": "light"
          }
        }
      ]
    },
    {
      "cell_type": "markdown",
      "source": [
        "### Conclusión"
      ],
      "metadata": {
        "id": "Aqmi60GIxkL8"
      }
    },
    {
      "cell_type": "markdown",
      "source": [
        "Los resultados de la prueba se basan en un valor, el nivel de significancia. Este, para este caso, se estableció entre -1.96 y 1.96. En ese contexto, todos los generadores pasaron la prueba. Sin embargo, cabe resaltar que el generador de Tausworthe fue el que está más próximo hacia el límite.\n",
        "\n",
        "Por otro lado, el generador mediante congruencias lineales es el que más se aleja de los límites determinados. Para este, sin embargo, se puede notar un patrón en la gráfica de dispersión, contrario a los demás en donde los valores obtenidos se encuentran más dispersos y sin ningún patrón claramente visible."
      ],
      "metadata": {
        "id": "MNX_XgQzxnSF"
      }
    }
  ]
}
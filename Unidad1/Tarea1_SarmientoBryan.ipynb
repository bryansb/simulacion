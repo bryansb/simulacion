{
  "nbformat": 4,
  "nbformat_minor": 0,
  "metadata": {
    "colab": {
      "name": "Tarea1-SarmientoBryan.ipynb",
      "provenance": [],
      "collapsed_sections": [],
      "authorship_tag": "ABX9TyO3uU2ObDfLb+mC5kTghgcS",
      "include_colab_link": true
    },
    "kernelspec": {
      "name": "python3",
      "display_name": "Python 3"
    },
    "language_info": {
      "name": "python"
    }
  },
  "cells": [
    {
      "cell_type": "markdown",
      "metadata": {
        "id": "view-in-github",
        "colab_type": "text"
      },
      "source": [
        "<a href=\"https://colab.research.google.com/github/bryansb/simulacion/blob/main/Tarea1_SarmientoBryan.ipynb\" target=\"_parent\"><img src=\"https://colab.research.google.com/assets/colab-badge.svg\" alt=\"Open In Colab\"/></a>"
      ]
    },
    {
      "cell_type": "markdown",
      "source": [
        "# **TAREA 1 - DADOS**\n",
        "### **Nombre:** Douglas Bryan Sarmiento Basurto\n",
        "### **Asignatura:** Simulación\n",
        "\n",
        "Partiendo desde que un dado tiene seis lados, con valores del 1 al 6. Realizar lo siguiente:\n",
        "\n",
        "- Generar dos números pseudo aleatorios del 1 al 6 (simulando dos dados).\n",
        "- Sumar los valores de los dados.\n",
        "- Hacer iteraciones con 100, 1000 y 10000.\n",
        "- Mostrar el número de repeticiones de cada valor.\n",
        "- Realizar una barra de histogramas de los resultados."
      ],
      "metadata": {
        "id": "bUPmD35PAmqH"
      }
    },
    {
      "cell_type": "code",
      "execution_count": 1,
      "metadata": {
        "id": "tmvkR6T5fH29"
      },
      "outputs": [],
      "source": [
        "# Imports \n",
        "from random import seed, randrange\n",
        "import matplotlib.pyplot as plt\n",
        "\n",
        "def dice_summatory(num_iter = 100):\n",
        "  print(f'Cantidad de iteraciones: {num_iter} \\n')\n",
        "  end = num_iter\n",
        "  results = []\n",
        "\n",
        "  min_val = 1\n",
        "  max_val = 6\n",
        "  for n in range(0, end, 1):\n",
        "    dice1 = randrange(min_val, max_val+1, 1)\n",
        "    dice2 = randrange(min_val, max_val+1, 1)\n",
        "    dice_summatory = dice1 + dice2\n",
        "\n",
        "    results.append(dice_summatory)\n",
        "\n",
        "  return results\n",
        "\n",
        "def graphic_generator(input):\n",
        "  start = 2\n",
        "  end = 13\n",
        "  data = []\n",
        "  dataY = []\n",
        "  dataX = ['2', '3', '4', '5', '6', '7', '8', '9', '10', '11', '12']\n",
        "\n",
        "\n",
        "  for n in range(start, end, 1):\n",
        "    count = input.count(n)\n",
        "    data.append([n, count])\n",
        "    dataY.append(count)\n",
        "\n",
        "  for n in data:\n",
        "    print(f'Valor: {n[0]}, Repeticiones: {n[1]}')\n",
        "\n",
        "  print()\n",
        "  fig = plt.figure()\n",
        "  ax = fig.add_axes([0, 0, 1, 1])\n",
        "  ax.bar(dataX, dataY)\n",
        "  ax.set_ylabel('Número de Repeticiones')\n",
        "  ax.set_xlabel('Resultado de la suma')\n",
        "  ax.set_title('Frecuencia de resultados de la suma de dos dados')\n",
        "  plt.show()"
      ]
    },
    {
      "cell_type": "code",
      "source": [
        "x = dice_summatory()\n",
        "graphic_generator(x)"
      ],
      "metadata": {
        "id": "eJrsC0dGgUOH",
        "colab": {
          "base_uri": "https://localhost:8080/",
          "height": 620
        },
        "outputId": "c4757ea4-3967-448e-9e99-d4417259dbe2"
      },
      "execution_count": 3,
      "outputs": [
        {
          "output_type": "stream",
          "name": "stdout",
          "text": [
            "Cantidad de iteraciones: 100 \n",
            "\n",
            "Valor: 2, Repeticiones: 4\n",
            "Valor: 3, Repeticiones: 4\n",
            "Valor: 4, Repeticiones: 13\n",
            "Valor: 5, Repeticiones: 11\n",
            "Valor: 6, Repeticiones: 11\n",
            "Valor: 7, Repeticiones: 14\n",
            "Valor: 8, Repeticiones: 14\n",
            "Valor: 9, Repeticiones: 14\n",
            "Valor: 10, Repeticiones: 4\n",
            "Valor: 11, Repeticiones: 9\n",
            "Valor: 12, Repeticiones: 2\n",
            "\n"
          ]
        },
        {
          "output_type": "display_data",
          "data": {
            "text/plain": [
              "<Figure size 432x288 with 1 Axes>"
            ],
            "image/png": "[encoded data removed]"
          },
          "metadata": {
            "needs_background": "light"
          }
        }
      ]
    },
    {
      "cell_type": "code",
      "source": [
        "x = dice_summatory(1000)\n",
        "graphic_generator(x)"
      ],
      "metadata": {
        "colab": {
          "base_uri": "https://localhost:8080/",
          "height": 620
        },
        "id": "fqvLtm08K6AF",
        "outputId": "396793f4-01c4-4a6d-a580-72226331f7c6"
      },
      "execution_count": 12,
      "outputs": [
        {
          "output_type": "stream",
          "name": "stdout",
          "text": [
            "Cantidad de iteraciones: 1000 \n",
            "\n",
            "Valor: 2, Repeticiones: 29\n",
            "Valor: 3, Repeticiones: 56\n",
            "Valor: 4, Repeticiones: 80\n",
            "Valor: 5, Repeticiones: 109\n",
            "Valor: 6, Repeticiones: 156\n",
            "Valor: 7, Repeticiones: 156\n",
            "Valor: 8, Repeticiones: 141\n",
            "Valor: 9, Repeticiones: 111\n",
            "Valor: 10, Repeticiones: 83\n",
            "Valor: 11, Repeticiones: 53\n",
            "Valor: 12, Repeticiones: 26\n",
            "\n"
          ]
        },
        {
          "output_type": "display_data",
          "data": {
            "text/plain": [
              "<Figure size 432x288 with 1 Axes>"
            ],
            "image/png": "[encoded data removed]"
          },
          "metadata": {
            "needs_background": "light"
          }
        }
      ]
    },
    {
      "cell_type": "code",
      "source": [
        "x = dice_summatory(10000)\n",
        "graphic_generator(x)"
      ],
      "metadata": {
        "colab": {
          "base_uri": "https://localhost:8080/",
          "height": 620
        },
        "id": "sKiB3bG0RPXt",
        "outputId": "e4a6f26a-05c2-48fc-919d-7505a55ecf73"
      },
      "execution_count": 6,
      "outputs": [
        {
          "output_type": "stream",
          "name": "stdout",
          "text": [
            "Cantidad de iteraciones: 10000 \n",
            "\n",
            "Valor: 2, Repeticiones: 295\n",
            "Valor: 3, Repeticiones: 577\n",
            "Valor: 4, Repeticiones: 845\n",
            "Valor: 5, Repeticiones: 1053\n",
            "Valor: 6, Repeticiones: 1362\n",
            "Valor: 7, Repeticiones: 1728\n",
            "Valor: 8, Repeticiones: 1423\n",
            "Valor: 9, Repeticiones: 1144\n",
            "Valor: 10, Repeticiones: 769\n",
            "Valor: 11, Repeticiones: 532\n",
            "Valor: 12, Repeticiones: 272\n",
            "\n"
          ]
        },
        {
          "output_type": "display_data",
          "data": {
            "text/plain": [
              "<Figure size 432x288 with 1 Axes>"
            ],
            "image/png": "[encoded data removed]"
          },
          "metadata": {
            "needs_background": "light"
          }
        }
      ]
    },
    {
      "cell_type": "code",
      "source": [
        ""
      ],
      "metadata": {
        "id": "3vJGpmRoRThx"
      },
      "execution_count": null,
      "outputs": []
    }
  ]
}